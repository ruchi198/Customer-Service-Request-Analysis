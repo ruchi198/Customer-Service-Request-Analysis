{
  "nbformat": 4,
  "nbformat_minor": 0,
  "metadata": {
    "colab": {
      "name": "customer service request analysis.ipynb",
      "provenance": [],
      "collapsed_sections": []
    },
    "kernelspec": {
      "name": "python3",
      "display_name": "Python 3"
    },
    "language_info": {
      "name": "python"
    }
  },
  "cells": [
    {
      "cell_type": "code",
      "execution_count": null,
      "metadata": {
        "id": "h9Pbhy1dpcOZ"
      },
      "outputs": [],
      "source": [
        "#impoting of libraries required\n",
        "import pandas as pd\n",
        "import matplotlib.pyplot as plt\n",
        "import seaborn as sns\n",
        "import numpy as np\n",
        "\n",
        "# for Staistical testing\n",
        "from scipy import stats\n",
        "from scipy.stats import chi2_contingency \n",
        "from scipy.stats import f_oneway\n",
        "import statsmodels.api as sm\n",
        "from statsmodels.formula.api import ols"
      ]
    },
    {
      "cell_type": "code",
      "source": [
        "#reading the dataset available in csv format\n",
        "df=pd.read_csv(\"/content/311_Service_Requests_from_2010_to_Present.csv\")"
      ],
      "metadata": {
        "id": "AtKl-D64-uGh"
      },
      "execution_count": null,
      "outputs": []
    },
    {
      "cell_type": "code",
      "source": [
        "#viewing of first 5 rows of the dataset\n",
        "df.head()"
      ],
      "metadata": {
        "colab": {
          "base_uri": "https://localhost:8080/",
          "height": 508
        },
        "id": "ayyPge3L--95",
        "outputId": "5a2e0851-c481-424a-8f87-6ba414c675da"
      },
      "execution_count": null,
      "outputs": [
        {
          "output_type": "execute_result",
          "data": {
            "text/plain": [
              "   Unique Key            Created Date    Closed Date Agency  \\\n",
              "0    32310363  12/31/2015 11:59:45 PM  01-01-16 0:55   NYPD   \n",
              "1    32309934  12/31/2015 11:59:44 PM  01-01-16 1:26   NYPD   \n",
              "2    32309159  12/31/2015 11:59:29 PM  01-01-16 4:51   NYPD   \n",
              "3    32305098  12/31/2015 11:57:46 PM  01-01-16 7:43   NYPD   \n",
              "4    32306529  12/31/2015 11:56:58 PM  01-01-16 3:24   NYPD   \n",
              "\n",
              "                       Agency Name           Complaint Type  \\\n",
              "0  New York City Police Department  Noise - Street/Sidewalk   \n",
              "1  New York City Police Department         Blocked Driveway   \n",
              "2  New York City Police Department         Blocked Driveway   \n",
              "3  New York City Police Department          Illegal Parking   \n",
              "4  New York City Police Department          Illegal Parking   \n",
              "\n",
              "                     Descriptor    Location Type  Incident Zip  \\\n",
              "0              Loud Music/Party  Street/Sidewalk       10034.0   \n",
              "1                     No Access  Street/Sidewalk       11105.0   \n",
              "2                     No Access  Street/Sidewalk       10458.0   \n",
              "3  Commercial Overnight Parking  Street/Sidewalk       10461.0   \n",
              "4              Blocked Sidewalk  Street/Sidewalk       11373.0   \n",
              "\n",
              "        Incident Address  ... Bridge Highway Name Bridge Highway Direction  \\\n",
              "0    71 VERMILYEA AVENUE  ...                 NaN                      NaN   \n",
              "1        27-07 23 AVENUE  ...                 NaN                      NaN   \n",
              "2  2897 VALENTINE AVENUE  ...                 NaN                      NaN   \n",
              "3    2940 BAISLEY AVENUE  ...                 NaN                      NaN   \n",
              "4          87-14 57 ROAD  ...                 NaN                      NaN   \n",
              "\n",
              "  Road Ramp Bridge Highway Segment Garage Lot Name Ferry Direction  \\\n",
              "0       NaN                    NaN             NaN             NaN   \n",
              "1       NaN                    NaN             NaN             NaN   \n",
              "2       NaN                    NaN             NaN             NaN   \n",
              "3       NaN                    NaN             NaN             NaN   \n",
              "4       NaN                    NaN             NaN             NaN   \n",
              "\n",
              "  Ferry Terminal Name   Latitude  Longitude  \\\n",
              "0                 NaN  40.865682 -73.923501   \n",
              "1                 NaN  40.775945 -73.915094   \n",
              "2                 NaN  40.870325 -73.888525   \n",
              "3                 NaN  40.835994 -73.828379   \n",
              "4                 NaN  40.733060 -73.874170   \n",
              "\n",
              "                                   Location  \n",
              "0   (40.86568153633767, -73.92350095571744)  \n",
              "1  (40.775945312321085, -73.91509393898605)  \n",
              "2  (40.870324522111424, -73.88852464418646)  \n",
              "3   (40.83599404683083, -73.82837939584206)  \n",
              "4  (40.733059618956815, -73.87416975810375)  \n",
              "\n",
              "[5 rows x 53 columns]"
            ],
            "text/html": [
              "\n",
              "  <div id=\"df-64183fc4-e1d7-4df3-88ac-4c4c398baaa3\">\n",
              "    <div class=\"colab-df-container\">\n",
              "      <div>\n",
              "<style scoped>\n",
              "    .dataframe tbody tr th:only-of-type {\n",
              "        vertical-align: middle;\n",
              "    }\n",
              "\n",
              "    .dataframe tbody tr th {\n",
              "        vertical-align: top;\n",
              "    }\n",
              "\n",
              "    .dataframe thead th {\n",
              "        text-align: right;\n",
              "    }\n",
              "</style>\n",
              "<table border=\"1\" class=\"dataframe\">\n",
              "  <thead>\n",
              "    <tr style=\"text-align: right;\">\n",
              "      <th></th>\n",
              "      <th>Unique Key</th>\n",
              "      <th>Created Date</th>\n",
              "      <th>Closed Date</th>\n",
              "      <th>Agency</th>\n",
              "      <th>Agency Name</th>\n",
              "      <th>Complaint Type</th>\n",
              "      <th>Descriptor</th>\n",
              "      <th>Location Type</th>\n",
              "      <th>Incident Zip</th>\n",
              "      <th>Incident Address</th>\n",
              "      <th>...</th>\n",
              "      <th>Bridge Highway Name</th>\n",
              "      <th>Bridge Highway Direction</th>\n",
              "      <th>Road Ramp</th>\n",
              "      <th>Bridge Highway Segment</th>\n",
              "      <th>Garage Lot Name</th>\n",
              "      <th>Ferry Direction</th>\n",
              "      <th>Ferry Terminal Name</th>\n",
              "      <th>Latitude</th>\n",
              "      <th>Longitude</th>\n",
              "      <th>Location</th>\n",
              "    </tr>\n",
              "  </thead>\n",
              "  <tbody>\n",
              "    <tr>\n",
              "      <th>0</th>\n",
              "      <td>32310363</td>\n",
              "      <td>12/31/2015 11:59:45 PM</td>\n",
              "      <td>01-01-16 0:55</td>\n",
              "      <td>NYPD</td>\n",
              "      <td>New York City Police Department</td>\n",
              "      <td>Noise - Street/Sidewalk</td>\n",
              "      <td>Loud Music/Party</td>\n",
              "      <td>Street/Sidewalk</td>\n",
              "      <td>10034.0</td>\n",
              "      <td>71 VERMILYEA AVENUE</td>\n",
              "      <td>...</td>\n",
              "      <td>NaN</td>\n",
              "      <td>NaN</td>\n",
              "      <td>NaN</td>\n",
              "      <td>NaN</td>\n",
              "      <td>NaN</td>\n",
              "      <td>NaN</td>\n",
              "      <td>NaN</td>\n",
              "      <td>40.865682</td>\n",
              "      <td>-73.923501</td>\n",
              "      <td>(40.86568153633767, -73.92350095571744)</td>\n",
              "    </tr>\n",
              "    <tr>\n",
              "      <th>1</th>\n",
              "      <td>32309934</td>\n",
              "      <td>12/31/2015 11:59:44 PM</td>\n",
              "      <td>01-01-16 1:26</td>\n",
              "      <td>NYPD</td>\n",
              "      <td>New York City Police Department</td>\n",
              "      <td>Blocked Driveway</td>\n",
              "      <td>No Access</td>\n",
              "      <td>Street/Sidewalk</td>\n",
              "      <td>11105.0</td>\n",
              "      <td>27-07 23 AVENUE</td>\n",
              "      <td>...</td>\n",
              "      <td>NaN</td>\n",
              "      <td>NaN</td>\n",
              "      <td>NaN</td>\n",
              "      <td>NaN</td>\n",
              "      <td>NaN</td>\n",
              "      <td>NaN</td>\n",
              "      <td>NaN</td>\n",
              "      <td>40.775945</td>\n",
              "      <td>-73.915094</td>\n",
              "      <td>(40.775945312321085, -73.91509393898605)</td>\n",
              "    </tr>\n",
              "    <tr>\n",
              "      <th>2</th>\n",
              "      <td>32309159</td>\n",
              "      <td>12/31/2015 11:59:29 PM</td>\n",
              "      <td>01-01-16 4:51</td>\n",
              "      <td>NYPD</td>\n",
              "      <td>New York City Police Department</td>\n",
              "      <td>Blocked Driveway</td>\n",
              "      <td>No Access</td>\n",
              "      <td>Street/Sidewalk</td>\n",
              "      <td>10458.0</td>\n",
              "      <td>2897 VALENTINE AVENUE</td>\n",
              "      <td>...</td>\n",
              "      <td>NaN</td>\n",
              "      <td>NaN</td>\n",
              "      <td>NaN</td>\n",
              "      <td>NaN</td>\n",
              "      <td>NaN</td>\n",
              "      <td>NaN</td>\n",
              "      <td>NaN</td>\n",
              "      <td>40.870325</td>\n",
              "      <td>-73.888525</td>\n",
              "      <td>(40.870324522111424, -73.88852464418646)</td>\n",
              "    </tr>\n",
              "    <tr>\n",
              "      <th>3</th>\n",
              "      <td>32305098</td>\n",
              "      <td>12/31/2015 11:57:46 PM</td>\n",
              "      <td>01-01-16 7:43</td>\n",
              "      <td>NYPD</td>\n",
              "      <td>New York City Police Department</td>\n",
              "      <td>Illegal Parking</td>\n",
              "      <td>Commercial Overnight Parking</td>\n",
              "      <td>Street/Sidewalk</td>\n",
              "      <td>10461.0</td>\n",
              "      <td>2940 BAISLEY AVENUE</td>\n",
              "      <td>...</td>\n",
              "      <td>NaN</td>\n",
              "      <td>NaN</td>\n",
              "      <td>NaN</td>\n",
              "      <td>NaN</td>\n",
              "      <td>NaN</td>\n",
              "      <td>NaN</td>\n",
              "      <td>NaN</td>\n",
              "      <td>40.835994</td>\n",
              "      <td>-73.828379</td>\n",
              "      <td>(40.83599404683083, -73.82837939584206)</td>\n",
              "    </tr>\n",
              "    <tr>\n",
              "      <th>4</th>\n",
              "      <td>32306529</td>\n",
              "      <td>12/31/2015 11:56:58 PM</td>\n",
              "      <td>01-01-16 3:24</td>\n",
              "      <td>NYPD</td>\n",
              "      <td>New York City Police Department</td>\n",
              "      <td>Illegal Parking</td>\n",
              "      <td>Blocked Sidewalk</td>\n",
              "      <td>Street/Sidewalk</td>\n",
              "      <td>11373.0</td>\n",
              "      <td>87-14 57 ROAD</td>\n",
              "      <td>...</td>\n",
              "      <td>NaN</td>\n",
              "      <td>NaN</td>\n",
              "      <td>NaN</td>\n",
              "      <td>NaN</td>\n",
              "      <td>NaN</td>\n",
              "      <td>NaN</td>\n",
              "      <td>NaN</td>\n",
              "      <td>40.733060</td>\n",
              "      <td>-73.874170</td>\n",
              "      <td>(40.733059618956815, -73.87416975810375)</td>\n",
              "    </tr>\n",
              "  </tbody>\n",
              "</table>\n",
              "<p>5 rows × 53 columns</p>\n",
              "</div>\n",
              "      <button class=\"colab-df-convert\" onclick=\"convertToInteractive('df-64183fc4-e1d7-4df3-88ac-4c4c398baaa3')\"\n",
              "              title=\"Convert this dataframe to an interactive table.\"\n",
              "              style=\"display:none;\">\n",
              "        \n",
              "  <svg xmlns=\"http://www.w3.org/2000/svg\" height=\"24px\"viewBox=\"0 0 24 24\"\n",
              "       width=\"24px\">\n",
              "    <path d=\"M0 0h24v24H0V0z\" fill=\"none\"/>\n",
              "    <path d=\"M18.56 5.44l.94 2.06.94-2.06 2.06-.94-2.06-.94-.94-2.06-.94 2.06-2.06.94zm-11 1L8.5 8.5l.94-2.06 2.06-.94-2.06-.94L8.5 2.5l-.94 2.06-2.06.94zm10 10l.94 2.06.94-2.06 2.06-.94-2.06-.94-.94-2.06-.94 2.06-2.06.94z\"/><path d=\"M17.41 7.96l-1.37-1.37c-.4-.4-.92-.59-1.43-.59-.52 0-1.04.2-1.43.59L10.3 9.45l-7.72 7.72c-.78.78-.78 2.05 0 2.83L4 21.41c.39.39.9.59 1.41.59.51 0 1.02-.2 1.41-.59l7.78-7.78 2.81-2.81c.8-.78.8-2.07 0-2.86zM5.41 20L4 18.59l7.72-7.72 1.47 1.35L5.41 20z\"/>\n",
              "  </svg>\n",
              "      </button>\n",
              "      \n",
              "  <style>\n",
              "    .colab-df-container {\n",
              "      display:flex;\n",
              "      flex-wrap:wrap;\n",
              "      gap: 12px;\n",
              "    }\n",
              "\n",
              "    .colab-df-convert {\n",
              "      background-color: #E8F0FE;\n",
              "      border: none;\n",
              "      border-radius: 50%;\n",
              "      cursor: pointer;\n",
              "      display: none;\n",
              "      fill: #1967D2;\n",
              "      height: 32px;\n",
              "      padding: 0 0 0 0;\n",
              "      width: 32px;\n",
              "    }\n",
              "\n",
              "    .colab-df-convert:hover {\n",
              "      background-color: #E2EBFA;\n",
              "      box-shadow: 0px 1px 2px rgba(60, 64, 67, 0.3), 0px 1px 3px 1px rgba(60, 64, 67, 0.15);\n",
              "      fill: #174EA6;\n",
              "    }\n",
              "\n",
              "    [theme=dark] .colab-df-convert {\n",
              "      background-color: #3B4455;\n",
              "      fill: #D2E3FC;\n",
              "    }\n",
              "\n",
              "    [theme=dark] .colab-df-convert:hover {\n",
              "      background-color: #434B5C;\n",
              "      box-shadow: 0px 1px 3px 1px rgba(0, 0, 0, 0.15);\n",
              "      filter: drop-shadow(0px 1px 2px rgba(0, 0, 0, 0.3));\n",
              "      fill: #FFFFFF;\n",
              "    }\n",
              "  </style>\n",
              "\n",
              "      <script>\n",
              "        const buttonEl =\n",
              "          document.querySelector('#df-64183fc4-e1d7-4df3-88ac-4c4c398baaa3 button.colab-df-convert');\n",
              "        buttonEl.style.display =\n",
              "          google.colab.kernel.accessAllowed ? 'block' : 'none';\n",
              "\n",
              "        async function convertToInteractive(key) {\n",
              "          const element = document.querySelector('#df-64183fc4-e1d7-4df3-88ac-4c4c398baaa3');\n",
              "          const dataTable =\n",
              "            await google.colab.kernel.invokeFunction('convertToInteractive',\n",
              "                                                     [key], {});\n",
              "          if (!dataTable) return;\n",
              "\n",
              "          const docLinkHtml = 'Like what you see? Visit the ' +\n",
              "            '<a target=\"_blank\" href=https://colab.research.google.com/notebooks/data_table.ipynb>data table notebook</a>'\n",
              "            + ' to learn more about interactive tables.';\n",
              "          element.innerHTML = '';\n",
              "          dataTable['output_type'] = 'display_data';\n",
              "          await google.colab.output.renderOutput(dataTable, element);\n",
              "          const docLink = document.createElement('div');\n",
              "          docLink.innerHTML = docLinkHtml;\n",
              "          element.appendChild(docLink);\n",
              "        }\n",
              "      </script>\n",
              "    </div>\n",
              "  </div>\n",
              "  "
            ]
          },
          "metadata": {},
          "execution_count": 3
        }
      ]
    },
    {
      "cell_type": "code",
      "source": [
        "#shape of the dataset\n",
        "df.shape"
      ],
      "metadata": {
        "colab": {
          "base_uri": "https://localhost:8080/"
        },
        "id": "XzLgDqD4_R2u",
        "outputId": "cd2cd1e0-81e0-422a-88bd-07c790a8a0d6"
      },
      "execution_count": null,
      "outputs": [
        {
          "output_type": "execute_result",
          "data": {
            "text/plain": [
              "(26862, 53)"
            ]
          },
          "metadata": {},
          "execution_count": 4
        }
      ]
    },
    {
      "cell_type": "code",
      "source": [
        "#to check total number of null values for each column\n",
        "df.isnull().sum()"
      ],
      "metadata": {
        "id": "TWHS5Hxn_WON",
        "colab": {
          "base_uri": "https://localhost:8080/"
        },
        "outputId": "4c1922b8-c16d-4ec2-c86c-4e51ddcf651c"
      },
      "execution_count": null,
      "outputs": [
        {
          "output_type": "execute_result",
          "data": {
            "text/plain": [
              "Unique Key                            0\n",
              "Created Date                          0\n",
              "Closed Date                         164\n",
              "Agency                                0\n",
              "Agency Name                           1\n",
              "Complaint Type                        1\n",
              "Descriptor                          390\n",
              "Location Type                         1\n",
              "Incident Zip                        180\n",
              "Incident Address                   3123\n",
              "Street Name                        3123\n",
              "Cross Street 1                     3526\n",
              "Cross Street 2                     3564\n",
              "Intersection Street 1             23762\n",
              "Intersection Street 2             23802\n",
              "Address Type                        197\n",
              "City                                180\n",
              "Landmark                          26847\n",
              "Facility Type                       161\n",
              "Status                                1\n",
              "Due Date                              1\n",
              "Resolution Description                1\n",
              "Resolution Action Updated Date      161\n",
              "Community Board                       1\n",
              "Borough                               1\n",
              "X Coordinate (State Plane)          231\n",
              "Y Coordinate (State Plane)          231\n",
              "Park Facility Name                    1\n",
              "Park Borough                          1\n",
              "School Name                           1\n",
              "School Number                         1\n",
              "School Region                         1\n",
              "School Code                           1\n",
              "School Phone Number                   1\n",
              "School Address                        1\n",
              "School City                           1\n",
              "School State                          1\n",
              "School Zip                            1\n",
              "School Not Found                      1\n",
              "School or Citywide Complaint      26862\n",
              "Vehicle Type                      26862\n",
              "Taxi Company Borough              26862\n",
              "Taxi Pick Up Location             26862\n",
              "Bridge Highway Name               26844\n",
              "Bridge Highway Direction          26844\n",
              "Road Ramp                         26846\n",
              "Bridge Highway Segment            26846\n",
              "Garage Lot Name                   26862\n",
              "Ferry Direction                   26862\n",
              "Ferry Terminal Name               26862\n",
              "Latitude                            231\n",
              "Longitude                           231\n",
              "Location                            231\n",
              "dtype: int64"
            ]
          },
          "metadata": {},
          "execution_count": 5
        }
      ]
    },
    {
      "cell_type": "code",
      "source": [
        "#check datatypes of columns\n",
        "df.dtypes"
      ],
      "metadata": {
        "colab": {
          "base_uri": "https://localhost:8080/"
        },
        "id": "ZZ2lVUcKAPM8",
        "outputId": "73e46c94-1ac7-4bc5-c38c-c964f9455fbb"
      },
      "execution_count": null,
      "outputs": [
        {
          "output_type": "execute_result",
          "data": {
            "text/plain": [
              "Unique Key                          int64\n",
              "Created Date                       object\n",
              "Closed Date                        object\n",
              "Agency                             object\n",
              "Agency Name                        object\n",
              "Complaint Type                     object\n",
              "Descriptor                         object\n",
              "Location Type                      object\n",
              "Incident Zip                      float64\n",
              "Incident Address                   object\n",
              "Street Name                        object\n",
              "Cross Street 1                     object\n",
              "Cross Street 2                     object\n",
              "Intersection Street 1              object\n",
              "Intersection Street 2              object\n",
              "Address Type                       object\n",
              "City                               object\n",
              "Landmark                           object\n",
              "Facility Type                      object\n",
              "Status                             object\n",
              "Due Date                           object\n",
              "Resolution Description             object\n",
              "Resolution Action Updated Date     object\n",
              "Community Board                    object\n",
              "Borough                            object\n",
              "X Coordinate (State Plane)        float64\n",
              "Y Coordinate (State Plane)        float64\n",
              "Park Facility Name                 object\n",
              "Park Borough                       object\n",
              "School Name                        object\n",
              "School Number                      object\n",
              "School Region                      object\n",
              "School Code                        object\n",
              "School Phone Number                object\n",
              "School Address                     object\n",
              "School City                        object\n",
              "School State                       object\n",
              "School Zip                         object\n",
              "School Not Found                   object\n",
              "School or Citywide Complaint      float64\n",
              "Vehicle Type                      float64\n",
              "Taxi Company Borough              float64\n",
              "Taxi Pick Up Location             float64\n",
              "Bridge Highway Name                object\n",
              "Bridge Highway Direction           object\n",
              "Road Ramp                          object\n",
              "Bridge Highway Segment             object\n",
              "Garage Lot Name                   float64\n",
              "Ferry Direction                   float64\n",
              "Ferry Terminal Name               float64\n",
              "Latitude                          float64\n",
              "Longitude                         float64\n",
              "Location                           object\n",
              "dtype: object"
            ]
          },
          "metadata": {},
          "execution_count": 12
        }
      ]
    },
    {
      "cell_type": "code",
      "source": [
        "# converting created date column into datetime datatype\n",
        "df[\"Created Date\"]=pd.to_datetime(df[\"Created Date\"])"
      ],
      "metadata": {
        "id": "8ajka90_CS69"
      },
      "execution_count": null,
      "outputs": []
    },
    {
      "cell_type": "code",
      "source": [
        "df[\"Created Date\"]"
      ],
      "metadata": {
        "colab": {
          "base_uri": "https://localhost:8080/"
        },
        "id": "inPnMWpzC1XM",
        "outputId": "c90b1914-4633-45b3-fd0a-1f777afba7be"
      },
      "execution_count": null,
      "outputs": [
        {
          "output_type": "execute_result",
          "data": {
            "text/plain": [
              "0       2015-12-31 23:59:45\n",
              "1       2015-12-31 23:59:44\n",
              "2       2015-12-31 23:59:29\n",
              "3       2015-12-31 23:57:46\n",
              "4       2015-12-31 23:56:58\n",
              "                ...        \n",
              "55512   2015-11-06 12:38:00\n",
              "55513   2015-11-06 12:37:00\n",
              "55514   2015-11-06 12:37:00\n",
              "55515   2015-11-06 12:37:00\n",
              "55516   2015-11-06 12:36:00\n",
              "Name: Created Date, Length: 55517, dtype: datetime64[ns]"
            ]
          },
          "metadata": {},
          "execution_count": 39
        }
      ]
    },
    {
      "cell_type": "code",
      "source": [
        "# converting closed date column to datetime datatype\n",
        "df[\"Closed Date\"]=pd.to_datetime(df[\"Closed Date\"])"
      ],
      "metadata": {
        "id": "2F_2eZo2DI0j"
      },
      "execution_count": null,
      "outputs": []
    },
    {
      "cell_type": "code",
      "source": [
        "#creating a new column ‘Request_Closing_Time’ as the time elapsed between request creation and request closing\n",
        "df[\"Request_Closing_Time\"]=df[\"Closed Date\"]-df[\"Created Date\"]"
      ],
      "metadata": {
        "id": "ZDeItxScDmv4"
      },
      "execution_count": null,
      "outputs": []
    },
    {
      "cell_type": "code",
      "source": [
        "df[\"Request_Closing_Time\"]"
      ],
      "metadata": {
        "colab": {
          "base_uri": "https://localhost:8080/"
        },
        "id": "PKMhI3umEAtQ",
        "outputId": "f5a065c2-e520-4db0-cdbb-a618ef9792d7"
      },
      "execution_count": null,
      "outputs": [
        {
          "output_type": "execute_result",
          "data": {
            "text/plain": [
              "0       0 days 00:55:15\n",
              "1       0 days 01:26:16\n",
              "2       0 days 04:51:31\n",
              "3       0 days 07:45:14\n",
              "4       0 days 03:27:02\n",
              "              ...      \n",
              "55512   0 days 13:35:00\n",
              "55513   0 days 02:53:00\n",
              "55514   0 days 05:46:00\n",
              "55515   0 days 02:14:00\n",
              "55516   0 days 00:12:00\n",
              "Name: Request_Closing_Time, Length: 55517, dtype: timedelta64[ns]"
            ]
          },
          "metadata": {},
          "execution_count": 42
        }
      ]
    },
    {
      "cell_type": "code",
      "source": [
        "Request_Closing_Time=[]\n",
        "for x in (df[\"Closed Date\"]-df[\"Created Date\"]):\n",
        "    close=x.total_seconds()/60\n",
        "    Request_Closing_Time.append(close)\n",
        "    \n",
        "df[\"Request_Closing_Time\"]=Request_Closing_Time"
      ],
      "metadata": {
        "id": "BHOywCU1igLO"
      },
      "execution_count": null,
      "outputs": []
    },
    {
      "cell_type": "code",
      "source": [
        "df.head()"
      ],
      "metadata": {
        "colab": {
          "base_uri": "https://localhost:8080/",
          "height": 508
        },
        "id": "dM90MHqQEH1l",
        "outputId": "1c04a3db-0856-4a37-aef1-402c5df1f6a9"
      },
      "execution_count": null,
      "outputs": [
        {
          "output_type": "execute_result",
          "data": {
            "text/plain": [
              "   Unique Key        Created Date         Closed Date Agency  \\\n",
              "0    32310363 2015-12-31 23:59:45 2016-01-01 00:55:00   NYPD   \n",
              "1    32309934 2015-12-31 23:59:44 2016-01-01 01:26:00   NYPD   \n",
              "2    32309159 2015-12-31 23:59:29 2016-01-01 04:51:00   NYPD   \n",
              "3    32305098 2015-12-31 23:57:46 2016-01-01 07:43:00   NYPD   \n",
              "4    32306529 2015-12-31 23:56:58 2016-01-01 03:24:00   NYPD   \n",
              "\n",
              "                       Agency Name           Complaint Type  \\\n",
              "0  New York City Police Department  Noise - Street/Sidewalk   \n",
              "1  New York City Police Department         Blocked Driveway   \n",
              "2  New York City Police Department         Blocked Driveway   \n",
              "3  New York City Police Department          Illegal Parking   \n",
              "4  New York City Police Department          Illegal Parking   \n",
              "\n",
              "                     Descriptor    Location Type  Incident Zip  \\\n",
              "0              Loud Music/Party  Street/Sidewalk       10034.0   \n",
              "1                     No Access  Street/Sidewalk       11105.0   \n",
              "2                     No Access  Street/Sidewalk       10458.0   \n",
              "3  Commercial Overnight Parking  Street/Sidewalk       10461.0   \n",
              "4              Blocked Sidewalk  Street/Sidewalk       11373.0   \n",
              "\n",
              "        Incident Address  ... Bridge Highway Direction Road Ramp  \\\n",
              "0    71 VERMILYEA AVENUE  ...                      NaN       NaN   \n",
              "1        27-07 23 AVENUE  ...                      NaN       NaN   \n",
              "2  2897 VALENTINE AVENUE  ...                      NaN       NaN   \n",
              "3    2940 BAISLEY AVENUE  ...                      NaN       NaN   \n",
              "4          87-14 57 ROAD  ...                      NaN       NaN   \n",
              "\n",
              "  Bridge Highway Segment Garage Lot Name Ferry Direction Ferry Terminal Name  \\\n",
              "0                    NaN             NaN             NaN                 NaN   \n",
              "1                    NaN             NaN             NaN                 NaN   \n",
              "2                    NaN             NaN             NaN                 NaN   \n",
              "3                    NaN             NaN             NaN                 NaN   \n",
              "4                    NaN             NaN             NaN                 NaN   \n",
              "\n",
              "    Latitude  Longitude                                  Location  \\\n",
              "0  40.865682 -73.923501   (40.86568153633767, -73.92350095571744)   \n",
              "1  40.775945 -73.915094  (40.775945312321085, -73.91509393898605)   \n",
              "2  40.870325 -73.888525  (40.870324522111424, -73.88852464418646)   \n",
              "3  40.835994 -73.828379   (40.83599404683083, -73.82837939584206)   \n",
              "4  40.733060 -73.874170  (40.733059618956815, -73.87416975810375)   \n",
              "\n",
              "  Request_Closing_Time  \n",
              "0            55.250000  \n",
              "1            86.266667  \n",
              "2           291.516667  \n",
              "3           465.233333  \n",
              "4           207.033333  \n",
              "\n",
              "[5 rows x 54 columns]"
            ],
            "text/html": [
              "\n",
              "  <div id=\"df-c4e2cff3-8f46-4d06-99b2-8b5ecc5da2f7\">\n",
              "    <div class=\"colab-df-container\">\n",
              "      <div>\n",
              "<style scoped>\n",
              "    .dataframe tbody tr th:only-of-type {\n",
              "        vertical-align: middle;\n",
              "    }\n",
              "\n",
              "    .dataframe tbody tr th {\n",
              "        vertical-align: top;\n",
              "    }\n",
              "\n",
              "    .dataframe thead th {\n",
              "        text-align: right;\n",
              "    }\n",
              "</style>\n",
              "<table border=\"1\" class=\"dataframe\">\n",
              "  <thead>\n",
              "    <tr style=\"text-align: right;\">\n",
              "      <th></th>\n",
              "      <th>Unique Key</th>\n",
              "      <th>Created Date</th>\n",
              "      <th>Closed Date</th>\n",
              "      <th>Agency</th>\n",
              "      <th>Agency Name</th>\n",
              "      <th>Complaint Type</th>\n",
              "      <th>Descriptor</th>\n",
              "      <th>Location Type</th>\n",
              "      <th>Incident Zip</th>\n",
              "      <th>Incident Address</th>\n",
              "      <th>...</th>\n",
              "      <th>Bridge Highway Direction</th>\n",
              "      <th>Road Ramp</th>\n",
              "      <th>Bridge Highway Segment</th>\n",
              "      <th>Garage Lot Name</th>\n",
              "      <th>Ferry Direction</th>\n",
              "      <th>Ferry Terminal Name</th>\n",
              "      <th>Latitude</th>\n",
              "      <th>Longitude</th>\n",
              "      <th>Location</th>\n",
              "      <th>Request_Closing_Time</th>\n",
              "    </tr>\n",
              "  </thead>\n",
              "  <tbody>\n",
              "    <tr>\n",
              "      <th>0</th>\n",
              "      <td>32310363</td>\n",
              "      <td>2015-12-31 23:59:45</td>\n",
              "      <td>2016-01-01 00:55:00</td>\n",
              "      <td>NYPD</td>\n",
              "      <td>New York City Police Department</td>\n",
              "      <td>Noise - Street/Sidewalk</td>\n",
              "      <td>Loud Music/Party</td>\n",
              "      <td>Street/Sidewalk</td>\n",
              "      <td>10034.0</td>\n",
              "      <td>71 VERMILYEA AVENUE</td>\n",
              "      <td>...</td>\n",
              "      <td>NaN</td>\n",
              "      <td>NaN</td>\n",
              "      <td>NaN</td>\n",
              "      <td>NaN</td>\n",
              "      <td>NaN</td>\n",
              "      <td>NaN</td>\n",
              "      <td>40.865682</td>\n",
              "      <td>-73.923501</td>\n",
              "      <td>(40.86568153633767, -73.92350095571744)</td>\n",
              "      <td>55.250000</td>\n",
              "    </tr>\n",
              "    <tr>\n",
              "      <th>1</th>\n",
              "      <td>32309934</td>\n",
              "      <td>2015-12-31 23:59:44</td>\n",
              "      <td>2016-01-01 01:26:00</td>\n",
              "      <td>NYPD</td>\n",
              "      <td>New York City Police Department</td>\n",
              "      <td>Blocked Driveway</td>\n",
              "      <td>No Access</td>\n",
              "      <td>Street/Sidewalk</td>\n",
              "      <td>11105.0</td>\n",
              "      <td>27-07 23 AVENUE</td>\n",
              "      <td>...</td>\n",
              "      <td>NaN</td>\n",
              "      <td>NaN</td>\n",
              "      <td>NaN</td>\n",
              "      <td>NaN</td>\n",
              "      <td>NaN</td>\n",
              "      <td>NaN</td>\n",
              "      <td>40.775945</td>\n",
              "      <td>-73.915094</td>\n",
              "      <td>(40.775945312321085, -73.91509393898605)</td>\n",
              "      <td>86.266667</td>\n",
              "    </tr>\n",
              "    <tr>\n",
              "      <th>2</th>\n",
              "      <td>32309159</td>\n",
              "      <td>2015-12-31 23:59:29</td>\n",
              "      <td>2016-01-01 04:51:00</td>\n",
              "      <td>NYPD</td>\n",
              "      <td>New York City Police Department</td>\n",
              "      <td>Blocked Driveway</td>\n",
              "      <td>No Access</td>\n",
              "      <td>Street/Sidewalk</td>\n",
              "      <td>10458.0</td>\n",
              "      <td>2897 VALENTINE AVENUE</td>\n",
              "      <td>...</td>\n",
              "      <td>NaN</td>\n",
              "      <td>NaN</td>\n",
              "      <td>NaN</td>\n",
              "      <td>NaN</td>\n",
              "      <td>NaN</td>\n",
              "      <td>NaN</td>\n",
              "      <td>40.870325</td>\n",
              "      <td>-73.888525</td>\n",
              "      <td>(40.870324522111424, -73.88852464418646)</td>\n",
              "      <td>291.516667</td>\n",
              "    </tr>\n",
              "    <tr>\n",
              "      <th>3</th>\n",
              "      <td>32305098</td>\n",
              "      <td>2015-12-31 23:57:46</td>\n",
              "      <td>2016-01-01 07:43:00</td>\n",
              "      <td>NYPD</td>\n",
              "      <td>New York City Police Department</td>\n",
              "      <td>Illegal Parking</td>\n",
              "      <td>Commercial Overnight Parking</td>\n",
              "      <td>Street/Sidewalk</td>\n",
              "      <td>10461.0</td>\n",
              "      <td>2940 BAISLEY AVENUE</td>\n",
              "      <td>...</td>\n",
              "      <td>NaN</td>\n",
              "      <td>NaN</td>\n",
              "      <td>NaN</td>\n",
              "      <td>NaN</td>\n",
              "      <td>NaN</td>\n",
              "      <td>NaN</td>\n",
              "      <td>40.835994</td>\n",
              "      <td>-73.828379</td>\n",
              "      <td>(40.83599404683083, -73.82837939584206)</td>\n",
              "      <td>465.233333</td>\n",
              "    </tr>\n",
              "    <tr>\n",
              "      <th>4</th>\n",
              "      <td>32306529</td>\n",
              "      <td>2015-12-31 23:56:58</td>\n",
              "      <td>2016-01-01 03:24:00</td>\n",
              "      <td>NYPD</td>\n",
              "      <td>New York City Police Department</td>\n",
              "      <td>Illegal Parking</td>\n",
              "      <td>Blocked Sidewalk</td>\n",
              "      <td>Street/Sidewalk</td>\n",
              "      <td>11373.0</td>\n",
              "      <td>87-14 57 ROAD</td>\n",
              "      <td>...</td>\n",
              "      <td>NaN</td>\n",
              "      <td>NaN</td>\n",
              "      <td>NaN</td>\n",
              "      <td>NaN</td>\n",
              "      <td>NaN</td>\n",
              "      <td>NaN</td>\n",
              "      <td>40.733060</td>\n",
              "      <td>-73.874170</td>\n",
              "      <td>(40.733059618956815, -73.87416975810375)</td>\n",
              "      <td>207.033333</td>\n",
              "    </tr>\n",
              "  </tbody>\n",
              "</table>\n",
              "<p>5 rows × 54 columns</p>\n",
              "</div>\n",
              "      <button class=\"colab-df-convert\" onclick=\"convertToInteractive('df-c4e2cff3-8f46-4d06-99b2-8b5ecc5da2f7')\"\n",
              "              title=\"Convert this dataframe to an interactive table.\"\n",
              "              style=\"display:none;\">\n",
              "        \n",
              "  <svg xmlns=\"http://www.w3.org/2000/svg\" height=\"24px\"viewBox=\"0 0 24 24\"\n",
              "       width=\"24px\">\n",
              "    <path d=\"M0 0h24v24H0V0z\" fill=\"none\"/>\n",
              "    <path d=\"M18.56 5.44l.94 2.06.94-2.06 2.06-.94-2.06-.94-.94-2.06-.94 2.06-2.06.94zm-11 1L8.5 8.5l.94-2.06 2.06-.94-2.06-.94L8.5 2.5l-.94 2.06-2.06.94zm10 10l.94 2.06.94-2.06 2.06-.94-2.06-.94-.94-2.06-.94 2.06-2.06.94z\"/><path d=\"M17.41 7.96l-1.37-1.37c-.4-.4-.92-.59-1.43-.59-.52 0-1.04.2-1.43.59L10.3 9.45l-7.72 7.72c-.78.78-.78 2.05 0 2.83L4 21.41c.39.39.9.59 1.41.59.51 0 1.02-.2 1.41-.59l7.78-7.78 2.81-2.81c.8-.78.8-2.07 0-2.86zM5.41 20L4 18.59l7.72-7.72 1.47 1.35L5.41 20z\"/>\n",
              "  </svg>\n",
              "      </button>\n",
              "      \n",
              "  <style>\n",
              "    .colab-df-container {\n",
              "      display:flex;\n",
              "      flex-wrap:wrap;\n",
              "      gap: 12px;\n",
              "    }\n",
              "\n",
              "    .colab-df-convert {\n",
              "      background-color: #E8F0FE;\n",
              "      border: none;\n",
              "      border-radius: 50%;\n",
              "      cursor: pointer;\n",
              "      display: none;\n",
              "      fill: #1967D2;\n",
              "      height: 32px;\n",
              "      padding: 0 0 0 0;\n",
              "      width: 32px;\n",
              "    }\n",
              "\n",
              "    .colab-df-convert:hover {\n",
              "      background-color: #E2EBFA;\n",
              "      box-shadow: 0px 1px 2px rgba(60, 64, 67, 0.3), 0px 1px 3px 1px rgba(60, 64, 67, 0.15);\n",
              "      fill: #174EA6;\n",
              "    }\n",
              "\n",
              "    [theme=dark] .colab-df-convert {\n",
              "      background-color: #3B4455;\n",
              "      fill: #D2E3FC;\n",
              "    }\n",
              "\n",
              "    [theme=dark] .colab-df-convert:hover {\n",
              "      background-color: #434B5C;\n",
              "      box-shadow: 0px 1px 3px 1px rgba(0, 0, 0, 0.15);\n",
              "      filter: drop-shadow(0px 1px 2px rgba(0, 0, 0, 0.3));\n",
              "      fill: #FFFFFF;\n",
              "    }\n",
              "  </style>\n",
              "\n",
              "      <script>\n",
              "        const buttonEl =\n",
              "          document.querySelector('#df-c4e2cff3-8f46-4d06-99b2-8b5ecc5da2f7 button.colab-df-convert');\n",
              "        buttonEl.style.display =\n",
              "          google.colab.kernel.accessAllowed ? 'block' : 'none';\n",
              "\n",
              "        async function convertToInteractive(key) {\n",
              "          const element = document.querySelector('#df-c4e2cff3-8f46-4d06-99b2-8b5ecc5da2f7');\n",
              "          const dataTable =\n",
              "            await google.colab.kernel.invokeFunction('convertToInteractive',\n",
              "                                                     [key], {});\n",
              "          if (!dataTable) return;\n",
              "\n",
              "          const docLinkHtml = 'Like what you see? Visit the ' +\n",
              "            '<a target=\"_blank\" href=https://colab.research.google.com/notebooks/data_table.ipynb>data table notebook</a>'\n",
              "            + ' to learn more about interactive tables.';\n",
              "          element.innerHTML = '';\n",
              "          dataTable['output_type'] = 'display_data';\n",
              "          await google.colab.output.renderOutput(dataTable, element);\n",
              "          const docLink = document.createElement('div');\n",
              "          docLink.innerHTML = docLinkHtml;\n",
              "          element.appendChild(docLink);\n",
              "        }\n",
              "      </script>\n",
              "    </div>\n",
              "  </div>\n",
              "  "
            ]
          },
          "metadata": {},
          "execution_count": 51
        }
      ]
    },
    {
      "cell_type": "code",
      "source": [
        "df.info()"
      ],
      "metadata": {
        "id": "6GPwEJIoEgU-",
        "colab": {
          "base_uri": "https://localhost:8080/"
        },
        "outputId": "e5f606d6-d56c-4e70-abd1-cc9d738a09d0"
      },
      "execution_count": null,
      "outputs": [
        {
          "output_type": "stream",
          "name": "stdout",
          "text": [
            "<class 'pandas.core.frame.DataFrame'>\n",
            "RangeIndex: 26862 entries, 0 to 26861\n",
            "Data columns (total 54 columns):\n",
            " #   Column                          Non-Null Count  Dtype          \n",
            "---  ------                          --------------  -----          \n",
            " 0   Unique Key                      26862 non-null  int64          \n",
            " 1   Created Date                    26862 non-null  datetime64[ns] \n",
            " 2   Closed Date                     26698 non-null  datetime64[ns] \n",
            " 3   Agency                          26862 non-null  object         \n",
            " 4   Agency Name                     26861 non-null  object         \n",
            " 5   Complaint Type                  26861 non-null  object         \n",
            " 6   Descriptor                      26472 non-null  object         \n",
            " 7   Location Type                   26861 non-null  object         \n",
            " 8   Incident Zip                    26682 non-null  float64        \n",
            " 9   Incident Address                23739 non-null  object         \n",
            " 10  Street Name                     23739 non-null  object         \n",
            " 11  Cross Street 1                  23336 non-null  object         \n",
            " 12  Cross Street 2                  23298 non-null  object         \n",
            " 13  Intersection Street 1           3100 non-null   object         \n",
            " 14  Intersection Street 2           3060 non-null   object         \n",
            " 15  Address Type                    26665 non-null  object         \n",
            " 16  City                            26682 non-null  object         \n",
            " 17  Landmark                        15 non-null     object         \n",
            " 18  Facility Type                   26701 non-null  object         \n",
            " 19  Status                          26861 non-null  object         \n",
            " 20  Due Date                        26861 non-null  object         \n",
            " 21  Resolution Description          26861 non-null  object         \n",
            " 22  Resolution Action Updated Date  26701 non-null  object         \n",
            " 23  Community Board                 26861 non-null  object         \n",
            " 24  Borough                         26861 non-null  object         \n",
            " 25  X Coordinate (State Plane)      26631 non-null  float64        \n",
            " 26  Y Coordinate (State Plane)      26631 non-null  float64        \n",
            " 27  Park Facility Name              26861 non-null  object         \n",
            " 28  Park Borough                    26861 non-null  object         \n",
            " 29  School Name                     26861 non-null  object         \n",
            " 30  School Number                   26861 non-null  object         \n",
            " 31  School Region                   26861 non-null  object         \n",
            " 32  School Code                     26861 non-null  object         \n",
            " 33  School Phone Number             26861 non-null  object         \n",
            " 34  School Address                  26861 non-null  object         \n",
            " 35  School City                     26861 non-null  object         \n",
            " 36  School State                    26861 non-null  object         \n",
            " 37  School Zip                      26861 non-null  object         \n",
            " 38  School Not Found                26861 non-null  object         \n",
            " 39  School or Citywide Complaint    0 non-null      float64        \n",
            " 40  Vehicle Type                    0 non-null      float64        \n",
            " 41  Taxi Company Borough            0 non-null      float64        \n",
            " 42  Taxi Pick Up Location           0 non-null      float64        \n",
            " 43  Bridge Highway Name             18 non-null     object         \n",
            " 44  Bridge Highway Direction        18 non-null     object         \n",
            " 45  Road Ramp                       16 non-null     object         \n",
            " 46  Bridge Highway Segment          16 non-null     object         \n",
            " 47  Garage Lot Name                 0 non-null      float64        \n",
            " 48  Ferry Direction                 0 non-null      float64        \n",
            " 49  Ferry Terminal Name             0 non-null      float64        \n",
            " 50  Latitude                        26631 non-null  float64        \n",
            " 51  Longitude                       26631 non-null  float64        \n",
            " 52  Location                        26631 non-null  object         \n",
            " 53  Request_Closing_Time            26698 non-null  timedelta64[ns]\n",
            "dtypes: datetime64[ns](2), float64(12), int64(1), object(38), timedelta64[ns](1)\n",
            "memory usage: 11.1+ MB\n"
          ]
        }
      ]
    },
    {
      "cell_type": "code",
      "source": [
        "#major insights from the data\n",
        "df[\"Agency\"].value_counts().plot(kind=\"bar\",alpha=0.8)"
      ],
      "metadata": {
        "colab": {
          "base_uri": "https://localhost:8080/",
          "height": 301
        },
        "id": "K2pG0Q0YS_8W",
        "outputId": "aa097268-a51c-449a-8ad5-ce189cd4b72c"
      },
      "execution_count": null,
      "outputs": [
        {
          "output_type": "execute_result",
          "data": {
            "text/plain": [
              "<matplotlib.axes._subplots.AxesSubplot at 0x7f19f6df8650>"
            ]
          },
          "metadata": {},
          "execution_count": 31
        },
        {
          "output_type": "display_data",
          "data": {
            "text/plain": [
              "<Figure size 432x288 with 1 Axes>"
            ],
            "image/png": "[encoded data removed]"
          },
          "metadata": {
            "needs_background": "light"
          }
        }
      ]
    },
    {
      "cell_type": "markdown",
      "source": [
        "Insight 1: From the code we can conclude that there is only one agency working towards customer service i.e NYPD."
      ],
      "metadata": {
        "id": "MEeSGTm2T3GB"
      }
    },
    {
      "cell_type": "code",
      "source": [
        "df[\"Complaint Type\"].unique()"
      ],
      "metadata": {
        "colab": {
          "base_uri": "https://localhost:8080/"
        },
        "id": "KI66klUqTzGO",
        "outputId": "69adb2fd-e54a-4202-b38e-cdcfc419653c"
      },
      "execution_count": null,
      "outputs": [
        {
          "output_type": "execute_result",
          "data": {
            "text/plain": [
              "array(['Noise - Street/Sidewalk', 'Blocked Driveway', 'Illegal Parking',\n",
              "       'Derelict Vehicle', 'Noise - Commercial',\n",
              "       'Noise - House of Worship', 'Posting Advertisement',\n",
              "       'Noise - Vehicle', 'Animal Abuse', 'Vending', 'Traffic',\n",
              "       'Drinking', 'Bike/Roller/Skate Chronic', 'Panhandling',\n",
              "       'Noise - Park', 'Homeless Encampment', 'Urinating in Public',\n",
              "       'Graffiti', 'Disorderly Youth', 'Illegal Fireworks', nan],\n",
              "      dtype=object)"
            ]
          },
          "metadata": {},
          "execution_count": 14
        }
      ]
    },
    {
      "cell_type": "code",
      "source": [
        "num_of_complaints=df[\"Complaint Type\"].value_counts()\n",
        "num_of_complaints"
      ],
      "metadata": {
        "id": "TVKwDxgEVEnc",
        "colab": {
          "base_uri": "https://localhost:8080/"
        },
        "outputId": "1a329113-c48b-42fb-d418-d55ca1c1f807"
      },
      "execution_count": null,
      "outputs": [
        {
          "output_type": "execute_result",
          "data": {
            "text/plain": [
              "Blocked Driveway             17453\n",
              "Illegal Parking              15843\n",
              "Noise - Commercial            7436\n",
              "Noise - Street/Sidewalk       4935\n",
              "Derelict Vehicle              3287\n",
              "Noise - Vehicle               2288\n",
              "Animal Abuse                  1355\n",
              "Traffic                        753\n",
              "Homeless Encampment            633\n",
              "Vending                        544\n",
              "Posting Advertisement          281\n",
              "Noise - Park                   231\n",
              "Drinking                       185\n",
              "Noise - House of Worship       102\n",
              "Urinating in Public             57\n",
              "Panhandling                     55\n",
              "Bike/Roller/Skate Chronic       50\n",
              "Graffiti                        14\n",
              "Disorderly Youth                12\n",
              "Illegal Fireworks                3\n",
              "Name: Complaint Type, dtype: int64"
            ]
          },
          "metadata": {},
          "execution_count": 7
        }
      ]
    },
    {
      "cell_type": "code",
      "source": [
        "df['Complaint Type'].value_counts()[:15].plot(kind='barh',alpha=0.6,figsize=(15,10))\n",
        "plt.show()"
      ],
      "metadata": {
        "colab": {
          "base_uri": "https://localhost:8080/",
          "height": 592
        },
        "id": "t8cTm31xYW0e",
        "outputId": "35fab34f-62f2-4b70-b3f2-a648bcbd7850"
      },
      "execution_count": null,
      "outputs": [
        {
          "output_type": "display_data",
          "data": {
            "text/plain": [
              "<Figure size 1080x720 with 1 Axes>"
            ],
            "image/png": "[encoded data removed]"
          },
          "metadata": {
            "needs_background": "light"
          }
        }
      ]
    },
    {
      "cell_type": "markdown",
      "source": [
        "Insight 2:\n",
        "From the above plot we can see that top 3 most frequent complaint types are:\n",
        "1)Blocked driveway\n",
        "2)Illegal Parking\n",
        "3)Noise-Commercial\n"
      ],
      "metadata": {
        "id": "YU9GApJ9Yc7T"
      }
    },
    {
      "cell_type": "code",
      "source": [
        "df['City'].unique().size"
      ],
      "metadata": {
        "colab": {
          "base_uri": "https://localhost:8080/"
        },
        "id": "K7MGoX9KZvci",
        "outputId": "ee7b07d5-44b5-44c9-8b93-fdb2a2997103"
      },
      "execution_count": null,
      "outputs": [
        {
          "output_type": "execute_result",
          "data": {
            "text/plain": [
              "49"
            ]
          },
          "metadata": {},
          "execution_count": 45
        }
      ]
    },
    {
      "cell_type": "code",
      "source": [
        "df1=df.groupby(['City','Complaint Type']).size().unstack().fillna(0)\n",
        "df1.head()"
      ],
      "metadata": {
        "colab": {
          "base_uri": "https://localhost:8080/",
          "height": 371
        },
        "id": "jANLFuOJbbHB",
        "outputId": "bb0c5c0e-88c8-49b7-ae0d-84fd36ab0ce9"
      },
      "execution_count": null,
      "outputs": [
        {
          "output_type": "execute_result",
          "data": {
            "text/plain": [
              "Complaint Type  Animal Abuse  Bike/Roller/Skate Chronic  Blocked Driveway  \\\n",
              "City                                                                        \n",
              "ARVERNE                  5.0                        0.0               5.0   \n",
              "ASTORIA                 27.0                        7.0             620.0   \n",
              "BAYSIDE                  6.0                        0.0              70.0   \n",
              "BELLEROSE                1.0                        0.0              19.0   \n",
              "BREEZY POINT             0.0                        0.0               1.0   \n",
              "\n",
              "Complaint Type  Derelict Vehicle  Disorderly Youth  Drinking  Graffiti  \\\n",
              "City                                                                     \n",
              "ARVERNE                      7.0               0.0       0.0       0.0   \n",
              "ASTORIA                     65.0               0.0       4.0       0.0   \n",
              "BAYSIDE                     36.0               0.0       0.0       2.0   \n",
              "BELLEROSE                    8.0               0.0       0.0       0.0   \n",
              "BREEZY POINT                 0.0               0.0       0.0       0.0   \n",
              "\n",
              "Complaint Type  Homeless Encampment  Illegal Fireworks  Illegal Parking  \\\n",
              "City                                                                      \n",
              "ARVERNE                         1.0                0.0             15.0   \n",
              "ASTORIA                         5.0                0.0            273.0   \n",
              "BAYSIDE                         1.0                0.0            103.0   \n",
              "BELLEROSE                       0.0                0.0             10.0   \n",
              "BREEZY POINT                    0.0                0.0              0.0   \n",
              "\n",
              "Complaint Type  Noise - Commercial  Noise - House of Worship  Noise - Park  \\\n",
              "City                                                                         \n",
              "ARVERNE                        2.0                       0.0           0.0   \n",
              "ASTORIA                      216.0                       2.0           2.0   \n",
              "BAYSIDE                        5.0                       0.0           1.0   \n",
              "BELLEROSE                      4.0                       0.0           0.0   \n",
              "BREEZY POINT                   0.0                       0.0           0.0   \n",
              "\n",
              "Complaint Type  Noise - Street/Sidewalk  Noise - Vehicle  Panhandling  \\\n",
              "City                                                                    \n",
              "ARVERNE                             2.0              1.0          0.0   \n",
              "ASTORIA                            57.0             23.0          0.0   \n",
              "BAYSIDE                             3.0              2.0          0.0   \n",
              "BELLEROSE                           2.0              0.0          0.0   \n",
              "BREEZY POINT                        1.0              0.0          0.0   \n",
              "\n",
              "Complaint Type  Posting Advertisement  Traffic  Urinating in Public  Vending  \n",
              "City                                                                          \n",
              "ARVERNE                           0.0      0.0                  1.0      0.0  \n",
              "ASTORIA                           0.0      9.0                  1.0      3.0  \n",
              "BAYSIDE                           0.0      0.0                  0.0      0.0  \n",
              "BELLEROSE                         0.0      1.0                  0.0      0.0  \n",
              "BREEZY POINT                      0.0      0.0                  0.0      0.0  "
            ],
            "text/html": [
              "\n",
              "  <div id=\"df-d23549f1-e6e8-4003-8d29-a9250562f00a\">\n",
              "    <div class=\"colab-df-container\">\n",
              "      <div>\n",
              "<style scoped>\n",
              "    .dataframe tbody tr th:only-of-type {\n",
              "        vertical-align: middle;\n",
              "    }\n",
              "\n",
              "    .dataframe tbody tr th {\n",
              "        vertical-align: top;\n",
              "    }\n",
              "\n",
              "    .dataframe thead th {\n",
              "        text-align: right;\n",
              "    }\n",
              "</style>\n",
              "<table border=\"1\" class=\"dataframe\">\n",
              "  <thead>\n",
              "    <tr style=\"text-align: right;\">\n",
              "      <th>Complaint Type</th>\n",
              "      <th>Animal Abuse</th>\n",
              "      <th>Bike/Roller/Skate Chronic</th>\n",
              "      <th>Blocked Driveway</th>\n",
              "      <th>Derelict Vehicle</th>\n",
              "      <th>Disorderly Youth</th>\n",
              "      <th>Drinking</th>\n",
              "      <th>Graffiti</th>\n",
              "      <th>Homeless Encampment</th>\n",
              "      <th>Illegal Fireworks</th>\n",
              "      <th>Illegal Parking</th>\n",
              "      <th>Noise - Commercial</th>\n",
              "      <th>Noise - House of Worship</th>\n",
              "      <th>Noise - Park</th>\n",
              "      <th>Noise - Street/Sidewalk</th>\n",
              "      <th>Noise - Vehicle</th>\n",
              "      <th>Panhandling</th>\n",
              "      <th>Posting Advertisement</th>\n",
              "      <th>Traffic</th>\n",
              "      <th>Urinating in Public</th>\n",
              "      <th>Vending</th>\n",
              "    </tr>\n",
              "    <tr>\n",
              "      <th>City</th>\n",
              "      <th></th>\n",
              "      <th></th>\n",
              "      <th></th>\n",
              "      <th></th>\n",
              "      <th></th>\n",
              "      <th></th>\n",
              "      <th></th>\n",
              "      <th></th>\n",
              "      <th></th>\n",
              "      <th></th>\n",
              "      <th></th>\n",
              "      <th></th>\n",
              "      <th></th>\n",
              "      <th></th>\n",
              "      <th></th>\n",
              "      <th></th>\n",
              "      <th></th>\n",
              "      <th></th>\n",
              "      <th></th>\n",
              "      <th></th>\n",
              "    </tr>\n",
              "  </thead>\n",
              "  <tbody>\n",
              "    <tr>\n",
              "      <th>ARVERNE</th>\n",
              "      <td>5.0</td>\n",
              "      <td>0.0</td>\n",
              "      <td>5.0</td>\n",
              "      <td>7.0</td>\n",
              "      <td>0.0</td>\n",
              "      <td>0.0</td>\n",
              "      <td>0.0</td>\n",
              "      <td>1.0</td>\n",
              "      <td>0.0</td>\n",
              "      <td>15.0</td>\n",
              "      <td>2.0</td>\n",
              "      <td>0.0</td>\n",
              "      <td>0.0</td>\n",
              "      <td>2.0</td>\n",
              "      <td>1.0</td>\n",
              "      <td>0.0</td>\n",
              "      <td>0.0</td>\n",
              "      <td>0.0</td>\n",
              "      <td>1.0</td>\n",
              "      <td>0.0</td>\n",
              "    </tr>\n",
              "    <tr>\n",
              "      <th>ASTORIA</th>\n",
              "      <td>27.0</td>\n",
              "      <td>7.0</td>\n",
              "      <td>620.0</td>\n",
              "      <td>65.0</td>\n",
              "      <td>0.0</td>\n",
              "      <td>4.0</td>\n",
              "      <td>0.0</td>\n",
              "      <td>5.0</td>\n",
              "      <td>0.0</td>\n",
              "      <td>273.0</td>\n",
              "      <td>216.0</td>\n",
              "      <td>2.0</td>\n",
              "      <td>2.0</td>\n",
              "      <td>57.0</td>\n",
              "      <td>23.0</td>\n",
              "      <td>0.0</td>\n",
              "      <td>0.0</td>\n",
              "      <td>9.0</td>\n",
              "      <td>1.0</td>\n",
              "      <td>3.0</td>\n",
              "    </tr>\n",
              "    <tr>\n",
              "      <th>BAYSIDE</th>\n",
              "      <td>6.0</td>\n",
              "      <td>0.0</td>\n",
              "      <td>70.0</td>\n",
              "      <td>36.0</td>\n",
              "      <td>0.0</td>\n",
              "      <td>0.0</td>\n",
              "      <td>2.0</td>\n",
              "      <td>1.0</td>\n",
              "      <td>0.0</td>\n",
              "      <td>103.0</td>\n",
              "      <td>5.0</td>\n",
              "      <td>0.0</td>\n",
              "      <td>1.0</td>\n",
              "      <td>3.0</td>\n",
              "      <td>2.0</td>\n",
              "      <td>0.0</td>\n",
              "      <td>0.0</td>\n",
              "      <td>0.0</td>\n",
              "      <td>0.0</td>\n",
              "      <td>0.0</td>\n",
              "    </tr>\n",
              "    <tr>\n",
              "      <th>BELLEROSE</th>\n",
              "      <td>1.0</td>\n",
              "      <td>0.0</td>\n",
              "      <td>19.0</td>\n",
              "      <td>8.0</td>\n",
              "      <td>0.0</td>\n",
              "      <td>0.0</td>\n",
              "      <td>0.0</td>\n",
              "      <td>0.0</td>\n",
              "      <td>0.0</td>\n",
              "      <td>10.0</td>\n",
              "      <td>4.0</td>\n",
              "      <td>0.0</td>\n",
              "      <td>0.0</td>\n",
              "      <td>2.0</td>\n",
              "      <td>0.0</td>\n",
              "      <td>0.0</td>\n",
              "      <td>0.0</td>\n",
              "      <td>1.0</td>\n",
              "      <td>0.0</td>\n",
              "      <td>0.0</td>\n",
              "    </tr>\n",
              "    <tr>\n",
              "      <th>BREEZY POINT</th>\n",
              "      <td>0.0</td>\n",
              "      <td>0.0</td>\n",
              "      <td>1.0</td>\n",
              "      <td>0.0</td>\n",
              "      <td>0.0</td>\n",
              "      <td>0.0</td>\n",
              "      <td>0.0</td>\n",
              "      <td>0.0</td>\n",
              "      <td>0.0</td>\n",
              "      <td>0.0</td>\n",
              "      <td>0.0</td>\n",
              "      <td>0.0</td>\n",
              "      <td>0.0</td>\n",
              "      <td>1.0</td>\n",
              "      <td>0.0</td>\n",
              "      <td>0.0</td>\n",
              "      <td>0.0</td>\n",
              "      <td>0.0</td>\n",
              "      <td>0.0</td>\n",
              "      <td>0.0</td>\n",
              "    </tr>\n",
              "  </tbody>\n",
              "</table>\n",
              "</div>\n",
              "      <button class=\"colab-df-convert\" onclick=\"convertToInteractive('df-d23549f1-e6e8-4003-8d29-a9250562f00a')\"\n",
              "              title=\"Convert this dataframe to an interactive table.\"\n",
              "              style=\"display:none;\">\n",
              "        \n",
              "  <svg xmlns=\"http://www.w3.org/2000/svg\" height=\"24px\"viewBox=\"0 0 24 24\"\n",
              "       width=\"24px\">\n",
              "    <path d=\"M0 0h24v24H0V0z\" fill=\"none\"/>\n",
              "    <path d=\"M18.56 5.44l.94 2.06.94-2.06 2.06-.94-2.06-.94-.94-2.06-.94 2.06-2.06.94zm-11 1L8.5 8.5l.94-2.06 2.06-.94-2.06-.94L8.5 2.5l-.94 2.06-2.06.94zm10 10l.94 2.06.94-2.06 2.06-.94-2.06-.94-.94-2.06-.94 2.06-2.06.94z\"/><path d=\"M17.41 7.96l-1.37-1.37c-.4-.4-.92-.59-1.43-.59-.52 0-1.04.2-1.43.59L10.3 9.45l-7.72 7.72c-.78.78-.78 2.05 0 2.83L4 21.41c.39.39.9.59 1.41.59.51 0 1.02-.2 1.41-.59l7.78-7.78 2.81-2.81c.8-.78.8-2.07 0-2.86zM5.41 20L4 18.59l7.72-7.72 1.47 1.35L5.41 20z\"/>\n",
              "  </svg>\n",
              "      </button>\n",
              "      \n",
              "  <style>\n",
              "    .colab-df-container {\n",
              "      display:flex;\n",
              "      flex-wrap:wrap;\n",
              "      gap: 12px;\n",
              "    }\n",
              "\n",
              "    .colab-df-convert {\n",
              "      background-color: #E8F0FE;\n",
              "      border: none;\n",
              "      border-radius: 50%;\n",
              "      cursor: pointer;\n",
              "      display: none;\n",
              "      fill: #1967D2;\n",
              "      height: 32px;\n",
              "      padding: 0 0 0 0;\n",
              "      width: 32px;\n",
              "    }\n",
              "\n",
              "    .colab-df-convert:hover {\n",
              "      background-color: #E2EBFA;\n",
              "      box-shadow: 0px 1px 2px rgba(60, 64, 67, 0.3), 0px 1px 3px 1px rgba(60, 64, 67, 0.15);\n",
              "      fill: #174EA6;\n",
              "    }\n",
              "\n",
              "    [theme=dark] .colab-df-convert {\n",
              "      background-color: #3B4455;\n",
              "      fill: #D2E3FC;\n",
              "    }\n",
              "\n",
              "    [theme=dark] .colab-df-convert:hover {\n",
              "      background-color: #434B5C;\n",
              "      box-shadow: 0px 1px 3px 1px rgba(0, 0, 0, 0.15);\n",
              "      filter: drop-shadow(0px 1px 2px rgba(0, 0, 0, 0.3));\n",
              "      fill: #FFFFFF;\n",
              "    }\n",
              "  </style>\n",
              "\n",
              "      <script>\n",
              "        const buttonEl =\n",
              "          document.querySelector('#df-d23549f1-e6e8-4003-8d29-a9250562f00a button.colab-df-convert');\n",
              "        buttonEl.style.display =\n",
              "          google.colab.kernel.accessAllowed ? 'block' : 'none';\n",
              "\n",
              "        async function convertToInteractive(key) {\n",
              "          const element = document.querySelector('#df-d23549f1-e6e8-4003-8d29-a9250562f00a');\n",
              "          const dataTable =\n",
              "            await google.colab.kernel.invokeFunction('convertToInteractive',\n",
              "                                                     [key], {});\n",
              "          if (!dataTable) return;\n",
              "\n",
              "          const docLinkHtml = 'Like what you see? Visit the ' +\n",
              "            '<a target=\"_blank\" href=https://colab.research.google.com/notebooks/data_table.ipynb>data table notebook</a>'\n",
              "            + ' to learn more about interactive tables.';\n",
              "          element.innerHTML = '';\n",
              "          dataTable['output_type'] = 'display_data';\n",
              "          await google.colab.output.renderOutput(dataTable, element);\n",
              "          const docLink = document.createElement('div');\n",
              "          docLink.innerHTML = docLinkHtml;\n",
              "          element.appendChild(docLink);\n",
              "        }\n",
              "      </script>\n",
              "    </div>\n",
              "  </div>\n",
              "  "
            ]
          },
          "metadata": {},
          "execution_count": 22
        }
      ]
    },
    {
      "cell_type": "code",
      "source": [
        "df1.shape"
      ],
      "metadata": {
        "colab": {
          "base_uri": "https://localhost:8080/"
        },
        "id": "e242Up5-f3yG",
        "outputId": "a2c18b1a-af84-424f-98c4-2bb60de06584"
      },
      "execution_count": null,
      "outputs": [
        {
          "output_type": "execute_result",
          "data": {
            "text/plain": [
              "(48, 20)"
            ]
          },
          "metadata": {},
          "execution_count": 44
        }
      ]
    },
    {
      "cell_type": "code",
      "source": [
        "df1.plot.bar(figsize=(15,10), stacked=True)\n",
        "plt.ylabel('Number of Complaints')\n",
        "plt.title('Number of complaints vs. City')"
      ],
      "metadata": {
        "colab": {
          "base_uri": "https://localhost:8080/",
          "height": 747
        },
        "id": "KaVKCpZJem8U",
        "outputId": "9c96220f-7d3b-41d5-8f67-1248d96b97a9"
      },
      "execution_count": null,
      "outputs": [
        {
          "output_type": "execute_result",
          "data": {
            "text/plain": [
              "Text(0.5, 1.0, 'Number of complaints vs. City')"
            ]
          },
          "metadata": {},
          "execution_count": 41
        },
        {
          "output_type": "display_data",
          "data": {
            "text/plain": [
              "<Figure size 1080x720 with 1 Axes>"
            ],
            "image/png": "[encoded data removed]"
          },
          "metadata": {
            "needs_background": "light"
          }
        }
      ]
    },
    {
      "cell_type": "markdown",
      "source": [
        "Insight 3:\n",
        "Most complaints are registered in Brooklyn\n"
      ],
      "metadata": {
        "id": "PmQE657VfA8R"
      }
    },
    {
      "cell_type": "code",
      "source": [
        "#df.loc[(df['City']=='BROOKLYN')]['Complaint Type'].value_counts()\n",
        "plot_1= sns.countplot(x=df.loc[df.City=='BROOKLYN']['Complaint Type'], palette='YlOrRd_r')\n",
        "plt.xticks(rotation=90)\n",
        "\n",
        "#plot_1.set_xticklabels(plot_1.get_xticklabels(), rotation=90)"
      ],
      "metadata": {
        "colab": {
          "base_uri": "https://localhost:8080/",
          "height": 432
        },
        "id": "kOmrau2emZ9-",
        "outputId": "cfc864cd-86ee-4364-b227-da9d4d258924"
      },
      "execution_count": null,
      "outputs": [
        {
          "output_type": "execute_result",
          "data": {
            "text/plain": [
              "(array([ 0,  1,  2,  3,  4,  5,  6,  7,  8,  9, 10, 11, 12, 13, 14, 15, 16,\n",
              "        17, 18, 19]), <a list of 20 Text major ticklabel objects>)"
            ]
          },
          "metadata": {},
          "execution_count": 29
        },
        {
          "output_type": "display_data",
          "data": {
            "text/plain": [
              "<Figure size 432x288 with 1 Axes>"
            ],
            "image/png": "[encoded data removed]"
          },
          "metadata": {
            "needs_background": "light"
          }
        }
      ]
    },
    {
      "cell_type": "markdown",
      "source": [
        "Insight 4: Since maximum number of complaints were filed in Brooklyn, hence after analysing the complaint data for this city, it was found that Blocked Driveway was the most frequent complaint lodged to NYPD in the city of Brooklyn."
      ],
      "metadata": {
        "id": "WlT6RMYqm1Fj"
      }
    },
    {
      "cell_type": "code",
      "source": [
        "df[\"Request_Closing_Time\"].fillna(0)"
      ],
      "metadata": {
        "colab": {
          "base_uri": "https://localhost:8080/"
        },
        "id": "-_e-7ZTVh90b",
        "outputId": "7290a84f-fd05-4f63-c72a-9dab21adfc3b"
      },
      "execution_count": null,
      "outputs": [
        {
          "output_type": "execute_result",
          "data": {
            "text/plain": [
              "0         55.250000\n",
              "1         86.266667\n",
              "2        291.516667\n",
              "3        465.233333\n",
              "4        207.033333\n",
              "            ...    \n",
              "26857     78.000000\n",
              "26858     66.000000\n",
              "26859     77.000000\n",
              "26860    131.000000\n",
              "26861    294.000000\n",
              "Name: Request_Closing_Time, Length: 26862, dtype: float64"
            ]
          },
          "metadata": {},
          "execution_count": 52
        }
      ]
    },
    {
      "cell_type": "code",
      "source": [
        "#Categorical Scatter Plot to understand which type of complaints are taking more time to get resolved\n",
        "g=sns.scatterplot(x='Complaint Type',y=\"Request_Closing_Time\",data=df)\n",
        "plt.xticks(rotation=90)\n",
        "plt.ylim((0,10000))\n",
        "plt.show()"
      ],
      "metadata": {
        "colab": {
          "base_uri": "https://localhost:8080/",
          "height": 399
        },
        "id": "HpAecf8JgFud",
        "outputId": "96e3aff2-2289-488f-d46e-882e700cb68c"
      },
      "execution_count": null,
      "outputs": [
        {
          "output_type": "display_data",
          "data": {
            "text/plain": [
              "<Figure size 432x288 with 1 Axes>"
            ],
            "image/png": "[encoded data removed]"
          },
          "metadata": {
            "needs_background": "light"
          }
        }
      ]
    },
    {
      "cell_type": "markdown",
      "source": [
        "Insight 5: From the above visualization we can clearly see that Blocked Driveway and Noise-Street/Sidewalk complaints took most of the time to close."
      ],
      "metadata": {
        "id": "9XCM-ygwjJpV"
      }
    },
    {
      "cell_type": "code",
      "source": [
        "df['Location Type'].value_counts()"
      ],
      "metadata": {
        "colab": {
          "base_uri": "https://localhost:8080/"
        },
        "id": "VeiPMIjTvw_P",
        "outputId": "1b38e29c-d51a-4285-c9e6-477956cd9e1b"
      },
      "execution_count": null,
      "outputs": [
        {
          "output_type": "execute_result",
          "data": {
            "text/plain": [
              "Street/Sidewalk               22170\n",
              "Store/Commercial               2151\n",
              "Club/Bar/Restaurant            1701\n",
              "Residential Building/House      583\n",
              "Park/Playground                 132\n",
              "House of Worship                 45\n",
              "Residential Building             26\n",
              "Highway                          16\n",
              "House and Store                  15\n",
              "Vacant Lot                        8\n",
              "Commercial                        5\n",
              "Parking Lot                       5\n",
              "Roadway Tunnel                    2\n",
              "Subway Station                    2\n",
              "Name: Location Type, dtype: int64"
            ]
          },
          "metadata": {},
          "execution_count": 78
        }
      ]
    },
    {
      "cell_type": "code",
      "source": [
        "df['Location Type'].fillna(value='Street/Sidewalk',inplace=True)"
      ],
      "metadata": {
        "id": "aLCwVocxvmND"
      },
      "execution_count": null,
      "outputs": []
    },
    {
      "cell_type": "code",
      "source": [
        "plt.figure(figsize=(10,5))\n",
        "plot=sns.countplot(df['Location Type'])\n",
        "plot.set_xticklabels(plot.get_xticklabels(), rotation=90)"
      ],
      "metadata": {
        "colab": {
          "base_uri": "https://localhost:8080/",
          "height": 756
        },
        "id": "yFLg_LtIv3Wh",
        "outputId": "3daf9312-1e41-4553-8d51-277f2c2666d2"
      },
      "execution_count": null,
      "outputs": [
        {
          "output_type": "stream",
          "name": "stderr",
          "text": [
            "/usr/local/lib/python3.7/dist-packages/seaborn/_decorators.py:43: FutureWarning: Pass the following variable as a keyword arg: x. From version 0.12, the only valid positional argument will be `data`, and passing other arguments without an explicit keyword will result in an error or misinterpretation.\n",
            "  FutureWarning\n"
          ]
        },
        {
          "output_type": "execute_result",
          "data": {
            "text/plain": [
              "[Text(0, 0, 'Street/Sidewalk'),\n",
              " Text(0, 0, 'Club/Bar/Restaurant'),\n",
              " Text(0, 0, 'Store/Commercial'),\n",
              " Text(0, 0, 'House of Worship'),\n",
              " Text(0, 0, 'Residential Building/House'),\n",
              " Text(0, 0, 'Residential Building'),\n",
              " Text(0, 0, 'Park/Playground'),\n",
              " Text(0, 0, 'Vacant Lot'),\n",
              " Text(0, 0, 'House and Store'),\n",
              " Text(0, 0, 'Highway'),\n",
              " Text(0, 0, 'Commercial'),\n",
              " Text(0, 0, 'Roadway Tunnel'),\n",
              " Text(0, 0, 'Subway Station'),\n",
              " Text(0, 0, 'Parking Lot')]"
            ]
          },
          "metadata": {},
          "execution_count": 82
        },
        {
          "output_type": "display_data",
          "data": {
            "text/plain": [
              "<Figure size 720x360 with 1 Axes>"
            ],
            "image/png": "[encoded data removed]"
          },
          "metadata": {
            "needs_background": "light"
          }
        }
      ]
    },
    {
      "cell_type": "markdown",
      "source": [
        "Insight 6:\n",
        "we can conclude that Street/Sidewalk is the most number of complaints"
      ],
      "metadata": {
        "id": "HolfNYtlwFrH"
      }
    },
    {
      "cell_type": "code",
      "source": [
        "#Order the complaint types based on the average ‘Request_Closing_Time’, grouping them for different locations.\n",
        "df2=pd.DataFrame(df.groupby(\"Location Type\")[\"Request_Closing_Time\"].mean()).sort_values(\"Request_Closing_Time\")\n",
        "df2.tail()"
      ],
      "metadata": {
        "colab": {
          "base_uri": "https://localhost:8080/",
          "height": 238
        },
        "id": "DAncLQycnlJ7",
        "outputId": "c7bd1773-d282-4656-dc10-2473177151f1"
      },
      "execution_count": null,
      "outputs": [
        {
          "output_type": "execute_result",
          "data": {
            "text/plain": [
              "                            Request_Closing_Time\n",
              "Location Type                                   \n",
              "Residential Building                  309.873718\n",
              "Residential Building/House            353.225115\n",
              "Commercial                            433.013333\n",
              "Parking Lot                           681.503333\n",
              "Vacant Lot                           1591.933333"
            ],
            "text/html": [
              "\n",
              "  <div id=\"df-6078e2e0-1655-41a2-bad0-e33dd54ccccf\">\n",
              "    <div class=\"colab-df-container\">\n",
              "      <div>\n",
              "<style scoped>\n",
              "    .dataframe tbody tr th:only-of-type {\n",
              "        vertical-align: middle;\n",
              "    }\n",
              "\n",
              "    .dataframe tbody tr th {\n",
              "        vertical-align: top;\n",
              "    }\n",
              "\n",
              "    .dataframe thead th {\n",
              "        text-align: right;\n",
              "    }\n",
              "</style>\n",
              "<table border=\"1\" class=\"dataframe\">\n",
              "  <thead>\n",
              "    <tr style=\"text-align: right;\">\n",
              "      <th></th>\n",
              "      <th>Request_Closing_Time</th>\n",
              "    </tr>\n",
              "    <tr>\n",
              "      <th>Location Type</th>\n",
              "      <th></th>\n",
              "    </tr>\n",
              "  </thead>\n",
              "  <tbody>\n",
              "    <tr>\n",
              "      <th>Residential Building</th>\n",
              "      <td>309.873718</td>\n",
              "    </tr>\n",
              "    <tr>\n",
              "      <th>Residential Building/House</th>\n",
              "      <td>353.225115</td>\n",
              "    </tr>\n",
              "    <tr>\n",
              "      <th>Commercial</th>\n",
              "      <td>433.013333</td>\n",
              "    </tr>\n",
              "    <tr>\n",
              "      <th>Parking Lot</th>\n",
              "      <td>681.503333</td>\n",
              "    </tr>\n",
              "    <tr>\n",
              "      <th>Vacant Lot</th>\n",
              "      <td>1591.933333</td>\n",
              "    </tr>\n",
              "  </tbody>\n",
              "</table>\n",
              "</div>\n",
              "      <button class=\"colab-df-convert\" onclick=\"convertToInteractive('df-6078e2e0-1655-41a2-bad0-e33dd54ccccf')\"\n",
              "              title=\"Convert this dataframe to an interactive table.\"\n",
              "              style=\"display:none;\">\n",
              "        \n",
              "  <svg xmlns=\"http://www.w3.org/2000/svg\" height=\"24px\"viewBox=\"0 0 24 24\"\n",
              "       width=\"24px\">\n",
              "    <path d=\"M0 0h24v24H0V0z\" fill=\"none\"/>\n",
              "    <path d=\"M18.56 5.44l.94 2.06.94-2.06 2.06-.94-2.06-.94-.94-2.06-.94 2.06-2.06.94zm-11 1L8.5 8.5l.94-2.06 2.06-.94-2.06-.94L8.5 2.5l-.94 2.06-2.06.94zm10 10l.94 2.06.94-2.06 2.06-.94-2.06-.94-.94-2.06-.94 2.06-2.06.94z\"/><path d=\"M17.41 7.96l-1.37-1.37c-.4-.4-.92-.59-1.43-.59-.52 0-1.04.2-1.43.59L10.3 9.45l-7.72 7.72c-.78.78-.78 2.05 0 2.83L4 21.41c.39.39.9.59 1.41.59.51 0 1.02-.2 1.41-.59l7.78-7.78 2.81-2.81c.8-.78.8-2.07 0-2.86zM5.41 20L4 18.59l7.72-7.72 1.47 1.35L5.41 20z\"/>\n",
              "  </svg>\n",
              "      </button>\n",
              "      \n",
              "  <style>\n",
              "    .colab-df-container {\n",
              "      display:flex;\n",
              "      flex-wrap:wrap;\n",
              "      gap: 12px;\n",
              "    }\n",
              "\n",
              "    .colab-df-convert {\n",
              "      background-color: #E8F0FE;\n",
              "      border: none;\n",
              "      border-radius: 50%;\n",
              "      cursor: pointer;\n",
              "      display: none;\n",
              "      fill: #1967D2;\n",
              "      height: 32px;\n",
              "      padding: 0 0 0 0;\n",
              "      width: 32px;\n",
              "    }\n",
              "\n",
              "    .colab-df-convert:hover {\n",
              "      background-color: #E2EBFA;\n",
              "      box-shadow: 0px 1px 2px rgba(60, 64, 67, 0.3), 0px 1px 3px 1px rgba(60, 64, 67, 0.15);\n",
              "      fill: #174EA6;\n",
              "    }\n",
              "\n",
              "    [theme=dark] .colab-df-convert {\n",
              "      background-color: #3B4455;\n",
              "      fill: #D2E3FC;\n",
              "    }\n",
              "\n",
              "    [theme=dark] .colab-df-convert:hover {\n",
              "      background-color: #434B5C;\n",
              "      box-shadow: 0px 1px 3px 1px rgba(0, 0, 0, 0.15);\n",
              "      filter: drop-shadow(0px 1px 2px rgba(0, 0, 0, 0.3));\n",
              "      fill: #FFFFFF;\n",
              "    }\n",
              "  </style>\n",
              "\n",
              "      <script>\n",
              "        const buttonEl =\n",
              "          document.querySelector('#df-6078e2e0-1655-41a2-bad0-e33dd54ccccf button.colab-df-convert');\n",
              "        buttonEl.style.display =\n",
              "          google.colab.kernel.accessAllowed ? 'block' : 'none';\n",
              "\n",
              "        async function convertToInteractive(key) {\n",
              "          const element = document.querySelector('#df-6078e2e0-1655-41a2-bad0-e33dd54ccccf');\n",
              "          const dataTable =\n",
              "            await google.colab.kernel.invokeFunction('convertToInteractive',\n",
              "                                                     [key], {});\n",
              "          if (!dataTable) return;\n",
              "\n",
              "          const docLinkHtml = 'Like what you see? Visit the ' +\n",
              "            '<a target=\"_blank\" href=https://colab.research.google.com/notebooks/data_table.ipynb>data table notebook</a>'\n",
              "            + ' to learn more about interactive tables.';\n",
              "          element.innerHTML = '';\n",
              "          dataTable['output_type'] = 'display_data';\n",
              "          await google.colab.output.renderOutput(dataTable, element);\n",
              "          const docLink = document.createElement('div');\n",
              "          docLink.innerHTML = docLinkHtml;\n",
              "          element.appendChild(docLink);\n",
              "        }\n",
              "      </script>\n",
              "    </div>\n",
              "  </div>\n",
              "  "
            ]
          },
          "metadata": {},
          "execution_count": 71
        }
      ]
    },
    {
      "cell_type": "markdown",
      "source": [
        "From the above visualization we can see that vacant lot location complaints took most of the time to get closed."
      ],
      "metadata": {
        "id": "RHOjwv5Sowu8"
      }
    },
    {
      "cell_type": "code",
      "source": [
        "#Order the complaint types based on the average ‘Request_Closing_Time’, grouping them for different cities.\n",
        "\n",
        "df3=pd.DataFrame(df.groupby(\"City\")[\"Request_Closing_Time\"].mean()).sort_values(\"Request_Closing_Time\")\n",
        "df3.tail()"
      ],
      "metadata": {
        "colab": {
          "base_uri": "https://localhost:8080/",
          "height": 238
        },
        "id": "0jZN9SD5ppmi",
        "outputId": "fc6543dc-136b-4441-e891-0674a44e72e8"
      },
      "execution_count": null,
      "outputs": [
        {
          "output_type": "execute_result",
          "data": {
            "text/plain": [
              "                Request_Closing_Time\n",
              "City                                \n",
              "ROSEDALE                  505.566369\n",
              "KEW GARDENS               507.401643\n",
              "WOODHAVEN                 514.261689\n",
              "QUEENS VILLAGE            636.234560\n",
              "NEW HYDE PARK             824.266667"
            ],
            "text/html": [
              "\n",
              "  <div id=\"df-a76433b7-9971-4fed-971f-1fc8356a165e\">\n",
              "    <div class=\"colab-df-container\">\n",
              "      <div>\n",
              "<style scoped>\n",
              "    .dataframe tbody tr th:only-of-type {\n",
              "        vertical-align: middle;\n",
              "    }\n",
              "\n",
              "    .dataframe tbody tr th {\n",
              "        vertical-align: top;\n",
              "    }\n",
              "\n",
              "    .dataframe thead th {\n",
              "        text-align: right;\n",
              "    }\n",
              "</style>\n",
              "<table border=\"1\" class=\"dataframe\">\n",
              "  <thead>\n",
              "    <tr style=\"text-align: right;\">\n",
              "      <th></th>\n",
              "      <th>Request_Closing_Time</th>\n",
              "    </tr>\n",
              "    <tr>\n",
              "      <th>City</th>\n",
              "      <th></th>\n",
              "    </tr>\n",
              "  </thead>\n",
              "  <tbody>\n",
              "    <tr>\n",
              "      <th>ROSEDALE</th>\n",
              "      <td>505.566369</td>\n",
              "    </tr>\n",
              "    <tr>\n",
              "      <th>KEW GARDENS</th>\n",
              "      <td>507.401643</td>\n",
              "    </tr>\n",
              "    <tr>\n",
              "      <th>WOODHAVEN</th>\n",
              "      <td>514.261689</td>\n",
              "    </tr>\n",
              "    <tr>\n",
              "      <th>QUEENS VILLAGE</th>\n",
              "      <td>636.234560</td>\n",
              "    </tr>\n",
              "    <tr>\n",
              "      <th>NEW HYDE PARK</th>\n",
              "      <td>824.266667</td>\n",
              "    </tr>\n",
              "  </tbody>\n",
              "</table>\n",
              "</div>\n",
              "      <button class=\"colab-df-convert\" onclick=\"convertToInteractive('df-a76433b7-9971-4fed-971f-1fc8356a165e')\"\n",
              "              title=\"Convert this dataframe to an interactive table.\"\n",
              "              style=\"display:none;\">\n",
              "        \n",
              "  <svg xmlns=\"http://www.w3.org/2000/svg\" height=\"24px\"viewBox=\"0 0 24 24\"\n",
              "       width=\"24px\">\n",
              "    <path d=\"M0 0h24v24H0V0z\" fill=\"none\"/>\n",
              "    <path d=\"M18.56 5.44l.94 2.06.94-2.06 2.06-.94-2.06-.94-.94-2.06-.94 2.06-2.06.94zm-11 1L8.5 8.5l.94-2.06 2.06-.94-2.06-.94L8.5 2.5l-.94 2.06-2.06.94zm10 10l.94 2.06.94-2.06 2.06-.94-2.06-.94-.94-2.06-.94 2.06-2.06.94z\"/><path d=\"M17.41 7.96l-1.37-1.37c-.4-.4-.92-.59-1.43-.59-.52 0-1.04.2-1.43.59L10.3 9.45l-7.72 7.72c-.78.78-.78 2.05 0 2.83L4 21.41c.39.39.9.59 1.41.59.51 0 1.02-.2 1.41-.59l7.78-7.78 2.81-2.81c.8-.78.8-2.07 0-2.86zM5.41 20L4 18.59l7.72-7.72 1.47 1.35L5.41 20z\"/>\n",
              "  </svg>\n",
              "      </button>\n",
              "      \n",
              "  <style>\n",
              "    .colab-df-container {\n",
              "      display:flex;\n",
              "      flex-wrap:wrap;\n",
              "      gap: 12px;\n",
              "    }\n",
              "\n",
              "    .colab-df-convert {\n",
              "      background-color: #E8F0FE;\n",
              "      border: none;\n",
              "      border-radius: 50%;\n",
              "      cursor: pointer;\n",
              "      display: none;\n",
              "      fill: #1967D2;\n",
              "      height: 32px;\n",
              "      padding: 0 0 0 0;\n",
              "      width: 32px;\n",
              "    }\n",
              "\n",
              "    .colab-df-convert:hover {\n",
              "      background-color: #E2EBFA;\n",
              "      box-shadow: 0px 1px 2px rgba(60, 64, 67, 0.3), 0px 1px 3px 1px rgba(60, 64, 67, 0.15);\n",
              "      fill: #174EA6;\n",
              "    }\n",
              "\n",
              "    [theme=dark] .colab-df-convert {\n",
              "      background-color: #3B4455;\n",
              "      fill: #D2E3FC;\n",
              "    }\n",
              "\n",
              "    [theme=dark] .colab-df-convert:hover {\n",
              "      background-color: #434B5C;\n",
              "      box-shadow: 0px 1px 3px 1px rgba(0, 0, 0, 0.15);\n",
              "      filter: drop-shadow(0px 1px 2px rgba(0, 0, 0, 0.3));\n",
              "      fill: #FFFFFF;\n",
              "    }\n",
              "  </style>\n",
              "\n",
              "      <script>\n",
              "        const buttonEl =\n",
              "          document.querySelector('#df-a76433b7-9971-4fed-971f-1fc8356a165e button.colab-df-convert');\n",
              "        buttonEl.style.display =\n",
              "          google.colab.kernel.accessAllowed ? 'block' : 'none';\n",
              "\n",
              "        async function convertToInteractive(key) {\n",
              "          const element = document.querySelector('#df-a76433b7-9971-4fed-971f-1fc8356a165e');\n",
              "          const dataTable =\n",
              "            await google.colab.kernel.invokeFunction('convertToInteractive',\n",
              "                                                     [key], {});\n",
              "          if (!dataTable) return;\n",
              "\n",
              "          const docLinkHtml = 'Like what you see? Visit the ' +\n",
              "            '<a target=\"_blank\" href=https://colab.research.google.com/notebooks/data_table.ipynb>data table notebook</a>'\n",
              "            + ' to learn more about interactive tables.';\n",
              "          element.innerHTML = '';\n",
              "          dataTable['output_type'] = 'display_data';\n",
              "          await google.colab.output.renderOutput(dataTable, element);\n",
              "          const docLink = document.createElement('div');\n",
              "          docLink.innerHTML = docLinkHtml;\n",
              "          element.appendChild(docLink);\n",
              "        }\n",
              "      </script>\n",
              "    </div>\n",
              "  </div>\n",
              "  "
            ]
          },
          "metadata": {},
          "execution_count": 76
        }
      ]
    },
    {
      "cell_type": "markdown",
      "source": [
        "From the above code we can say that New Hyde Park city took highest average time to close the complaint"
      ],
      "metadata": {
        "id": "fQEMkk2vqFxZ"
      }
    },
    {
      "cell_type": "code",
      "source": [
        "#Performing the statistical test to check Whether the average response time across complaint types is similar or not (overall)"
      ],
      "metadata": {
        "id": "EAmBzBkWqXfx"
      },
      "execution_count": null,
      "outputs": []
    },
    {
      "cell_type": "markdown",
      "source": [
        "1.Null Hypothesis: The average response time across complaint types is not different\n",
        "2. Alternate Hypothesis: The average response time across complaint types is different\n"
      ],
      "metadata": {
        "id": "OIUfKNExxb9q"
      }
    },
    {
      "cell_type": "code",
      "source": [
        "# First step is to handle missing values\n",
        "pd.DataFrame((df.isnull().sum()/df.shape[0]*100)).sort_values(0,ascending=False)[:20]    #calculating percentage of missing values"
      ],
      "metadata": {
        "colab": {
          "base_uri": "https://localhost:8080/",
          "height": 676
        },
        "id": "bjhits5Yx90o",
        "outputId": "351575d8-fb36-49d4-ecf3-29b0f0be7f6c"
      },
      "execution_count": null,
      "outputs": [
        {
          "output_type": "execute_result",
          "data": {
            "text/plain": [
              "                                       0\n",
              "School or Citywide Complaint  100.000000\n",
              "Taxi Pick Up Location         100.000000\n",
              "Ferry Terminal Name           100.000000\n",
              "Garage Lot Name               100.000000\n",
              "Ferry Direction               100.000000\n",
              "Taxi Company Borough          100.000000\n",
              "Vehicle Type                  100.000000\n",
              "Landmark                       99.949565\n",
              "Road Ramp                      99.926149\n",
              "Bridge Highway Segment         99.926149\n",
              "Bridge Highway Name            99.909937\n",
              "Bridge Highway Direction       99.909937\n",
              "Intersection Street 2          88.506223\n",
              "Intersection Street 1          88.376533\n",
              "Cross Street 2                 13.329250\n",
              "Cross Street 1                 13.208567\n",
              "Street Name                    11.717132\n",
              "Incident Address               11.717132\n",
              "Descriptor                      1.437398\n",
              "Latitude                        0.879010"
            ],
            "text/html": [
              "\n",
              "  <div id=\"df-86952275-9b2c-4472-9a8b-6eca0e8f5a22\">\n",
              "    <div class=\"colab-df-container\">\n",
              "      <div>\n",
              "<style scoped>\n",
              "    .dataframe tbody tr th:only-of-type {\n",
              "        vertical-align: middle;\n",
              "    }\n",
              "\n",
              "    .dataframe tbody tr th {\n",
              "        vertical-align: top;\n",
              "    }\n",
              "\n",
              "    .dataframe thead th {\n",
              "        text-align: right;\n",
              "    }\n",
              "</style>\n",
              "<table border=\"1\" class=\"dataframe\">\n",
              "  <thead>\n",
              "    <tr style=\"text-align: right;\">\n",
              "      <th></th>\n",
              "      <th>0</th>\n",
              "    </tr>\n",
              "  </thead>\n",
              "  <tbody>\n",
              "    <tr>\n",
              "      <th>School or Citywide Complaint</th>\n",
              "      <td>100.000000</td>\n",
              "    </tr>\n",
              "    <tr>\n",
              "      <th>Taxi Pick Up Location</th>\n",
              "      <td>100.000000</td>\n",
              "    </tr>\n",
              "    <tr>\n",
              "      <th>Ferry Terminal Name</th>\n",
              "      <td>100.000000</td>\n",
              "    </tr>\n",
              "    <tr>\n",
              "      <th>Garage Lot Name</th>\n",
              "      <td>100.000000</td>\n",
              "    </tr>\n",
              "    <tr>\n",
              "      <th>Ferry Direction</th>\n",
              "      <td>100.000000</td>\n",
              "    </tr>\n",
              "    <tr>\n",
              "      <th>Taxi Company Borough</th>\n",
              "      <td>100.000000</td>\n",
              "    </tr>\n",
              "    <tr>\n",
              "      <th>Vehicle Type</th>\n",
              "      <td>100.000000</td>\n",
              "    </tr>\n",
              "    <tr>\n",
              "      <th>Landmark</th>\n",
              "      <td>99.949565</td>\n",
              "    </tr>\n",
              "    <tr>\n",
              "      <th>Road Ramp</th>\n",
              "      <td>99.926149</td>\n",
              "    </tr>\n",
              "    <tr>\n",
              "      <th>Bridge Highway Segment</th>\n",
              "      <td>99.926149</td>\n",
              "    </tr>\n",
              "    <tr>\n",
              "      <th>Bridge Highway Name</th>\n",
              "      <td>99.909937</td>\n",
              "    </tr>\n",
              "    <tr>\n",
              "      <th>Bridge Highway Direction</th>\n",
              "      <td>99.909937</td>\n",
              "    </tr>\n",
              "    <tr>\n",
              "      <th>Intersection Street 2</th>\n",
              "      <td>88.506223</td>\n",
              "    </tr>\n",
              "    <tr>\n",
              "      <th>Intersection Street 1</th>\n",
              "      <td>88.376533</td>\n",
              "    </tr>\n",
              "    <tr>\n",
              "      <th>Cross Street 2</th>\n",
              "      <td>13.329250</td>\n",
              "    </tr>\n",
              "    <tr>\n",
              "      <th>Cross Street 1</th>\n",
              "      <td>13.208567</td>\n",
              "    </tr>\n",
              "    <tr>\n",
              "      <th>Street Name</th>\n",
              "      <td>11.717132</td>\n",
              "    </tr>\n",
              "    <tr>\n",
              "      <th>Incident Address</th>\n",
              "      <td>11.717132</td>\n",
              "    </tr>\n",
              "    <tr>\n",
              "      <th>Descriptor</th>\n",
              "      <td>1.437398</td>\n",
              "    </tr>\n",
              "    <tr>\n",
              "      <th>Latitude</th>\n",
              "      <td>0.879010</td>\n",
              "    </tr>\n",
              "  </tbody>\n",
              "</table>\n",
              "</div>\n",
              "      <button class=\"colab-df-convert\" onclick=\"convertToInteractive('df-86952275-9b2c-4472-9a8b-6eca0e8f5a22')\"\n",
              "              title=\"Convert this dataframe to an interactive table.\"\n",
              "              style=\"display:none;\">\n",
              "        \n",
              "  <svg xmlns=\"http://www.w3.org/2000/svg\" height=\"24px\"viewBox=\"0 0 24 24\"\n",
              "       width=\"24px\">\n",
              "    <path d=\"M0 0h24v24H0V0z\" fill=\"none\"/>\n",
              "    <path d=\"M18.56 5.44l.94 2.06.94-2.06 2.06-.94-2.06-.94-.94-2.06-.94 2.06-2.06.94zm-11 1L8.5 8.5l.94-2.06 2.06-.94-2.06-.94L8.5 2.5l-.94 2.06-2.06.94zm10 10l.94 2.06.94-2.06 2.06-.94-2.06-.94-.94-2.06-.94 2.06-2.06.94z\"/><path d=\"M17.41 7.96l-1.37-1.37c-.4-.4-.92-.59-1.43-.59-.52 0-1.04.2-1.43.59L10.3 9.45l-7.72 7.72c-.78.78-.78 2.05 0 2.83L4 21.41c.39.39.9.59 1.41.59.51 0 1.02-.2 1.41-.59l7.78-7.78 2.81-2.81c.8-.78.8-2.07 0-2.86zM5.41 20L4 18.59l7.72-7.72 1.47 1.35L5.41 20z\"/>\n",
              "  </svg>\n",
              "      </button>\n",
              "      \n",
              "  <style>\n",
              "    .colab-df-container {\n",
              "      display:flex;\n",
              "      flex-wrap:wrap;\n",
              "      gap: 12px;\n",
              "    }\n",
              "\n",
              "    .colab-df-convert {\n",
              "      background-color: #E8F0FE;\n",
              "      border: none;\n",
              "      border-radius: 50%;\n",
              "      cursor: pointer;\n",
              "      display: none;\n",
              "      fill: #1967D2;\n",
              "      height: 32px;\n",
              "      padding: 0 0 0 0;\n",
              "      width: 32px;\n",
              "    }\n",
              "\n",
              "    .colab-df-convert:hover {\n",
              "      background-color: #E2EBFA;\n",
              "      box-shadow: 0px 1px 2px rgba(60, 64, 67, 0.3), 0px 1px 3px 1px rgba(60, 64, 67, 0.15);\n",
              "      fill: #174EA6;\n",
              "    }\n",
              "\n",
              "    [theme=dark] .colab-df-convert {\n",
              "      background-color: #3B4455;\n",
              "      fill: #D2E3FC;\n",
              "    }\n",
              "\n",
              "    [theme=dark] .colab-df-convert:hover {\n",
              "      background-color: #434B5C;\n",
              "      box-shadow: 0px 1px 3px 1px rgba(0, 0, 0, 0.15);\n",
              "      filter: drop-shadow(0px 1px 2px rgba(0, 0, 0, 0.3));\n",
              "      fill: #FFFFFF;\n",
              "    }\n",
              "  </style>\n",
              "\n",
              "      <script>\n",
              "        const buttonEl =\n",
              "          document.querySelector('#df-86952275-9b2c-4472-9a8b-6eca0e8f5a22 button.colab-df-convert');\n",
              "        buttonEl.style.display =\n",
              "          google.colab.kernel.accessAllowed ? 'block' : 'none';\n",
              "\n",
              "        async function convertToInteractive(key) {\n",
              "          const element = document.querySelector('#df-86952275-9b2c-4472-9a8b-6eca0e8f5a22');\n",
              "          const dataTable =\n",
              "            await google.colab.kernel.invokeFunction('convertToInteractive',\n",
              "                                                     [key], {});\n",
              "          if (!dataTable) return;\n",
              "\n",
              "          const docLinkHtml = 'Like what you see? Visit the ' +\n",
              "            '<a target=\"_blank\" href=https://colab.research.google.com/notebooks/data_table.ipynb>data table notebook</a>'\n",
              "            + ' to learn more about interactive tables.';\n",
              "          element.innerHTML = '';\n",
              "          dataTable['output_type'] = 'display_data';\n",
              "          await google.colab.output.renderOutput(dataTable, element);\n",
              "          const docLink = document.createElement('div');\n",
              "          docLink.innerHTML = docLinkHtml;\n",
              "          element.appendChild(docLink);\n",
              "        }\n",
              "      </script>\n",
              "    </div>\n",
              "  </div>\n",
              "  "
            ]
          },
          "metadata": {},
          "execution_count": 44
        }
      ]
    },
    {
      "cell_type": "code",
      "source": [
        "#removing colums with high percenatge of missing values\n",
        "new_df=df.loc[:,(df.isnull().sum()/df.shape[0]*100)<=50]"
      ],
      "metadata": {
        "id": "8-ULxfzo1T_p"
      },
      "execution_count": null,
      "outputs": []
    },
    {
      "cell_type": "code",
      "source": [
        "new_df.shape"
      ],
      "metadata": {
        "colab": {
          "base_uri": "https://localhost:8080/"
        },
        "id": "qnylg0j50QZ8",
        "outputId": "74f91ff9-f137-4203-9ec4-25325114fbed"
      },
      "execution_count": null,
      "outputs": [
        {
          "output_type": "execute_result",
          "data": {
            "text/plain": [
              "(55517, 40)"
            ]
          },
          "metadata": {},
          "execution_count": 46
        }
      ]
    },
    {
      "cell_type": "code",
      "source": [
        "drop_column=[]\n",
        "for x in new_df.columns.tolist():\n",
        "    if new_df[x].nunique()<=3:                                 #nunique() counts number of distinct elements in specified axis\n",
        "        print(x+ \" \"*10+\" : \",new_df[x].unique())\n",
        "        drop_column.append(x)"
      ],
      "metadata": {
        "colab": {
          "base_uri": "https://localhost:8080/"
        },
        "id": "Gh439X5E2T7f",
        "outputId": "cb58046d-7354-45dd-b1f0-1500fee758c4"
      },
      "execution_count": null,
      "outputs": [
        {
          "output_type": "stream",
          "name": "stdout",
          "text": [
            "Agency           :  ['NYPD']\n",
            "Agency Name           :  ['New York City Police Department' 'NYPD']\n",
            "Facility Type           :  ['Precinct' nan]\n",
            "Park Facility Name           :  ['Unspecified']\n",
            "School Name           :  ['Unspecified']\n",
            "School Number           :  ['Unspecified']\n",
            "School Region           :  ['Unspecified']\n",
            "School Code           :  ['Unspecified']\n",
            "School Phone Number           :  ['Unspecified']\n",
            "School Address           :  ['Unspecified']\n",
            "School City           :  ['Unspecified']\n",
            "School State           :  ['Unspecified']\n",
            "School Zip           :  ['Unspecified' 'Unspec']\n",
            "School Not Found           :  ['N' nan]\n"
          ]
        }
      ]
    },
    {
      "cell_type": "code",
      "source": [
        "# drop_column gives the list of columns that doesn't have much significant information that can used for statistical analysis. Hence can be dropped\n",
        "new_df.drop(drop_column,axis=1,inplace=True)"
      ],
      "metadata": {
        "colab": {
          "base_uri": "https://localhost:8080/"
        },
        "id": "Tn6DAf8e2hkT",
        "outputId": "97dd39e8-5bd3-4415-80f8-3d5260253f99"
      },
      "execution_count": null,
      "outputs": [
        {
          "output_type": "stream",
          "name": "stderr",
          "text": [
            "/usr/local/lib/python3.7/dist-packages/pandas/core/frame.py:4913: SettingWithCopyWarning: \n",
            "A value is trying to be set on a copy of a slice from a DataFrame\n",
            "\n",
            "See the caveats in the documentation: https://pandas.pydata.org/pandas-docs/stable/user_guide/indexing.html#returning-a-view-versus-a-copy\n",
            "  errors=errors,\n"
          ]
        }
      ]
    },
    {
      "cell_type": "code",
      "source": [
        "new_df.shape"
      ],
      "metadata": {
        "colab": {
          "base_uri": "https://localhost:8080/"
        },
        "id": "HDrYrltS3Mmi",
        "outputId": "fe833c42-9f59-4d21-8140-8bd8a4c486ea"
      },
      "execution_count": null,
      "outputs": [
        {
          "output_type": "execute_result",
          "data": {
            "text/plain": [
              "(55517, 26)"
            ]
          },
          "metadata": {},
          "execution_count": 49
        }
      ]
    },
    {
      "cell_type": "code",
      "source": [
        "new_df"
      ],
      "metadata": {
        "id": "OLsw3HnOETni"
      },
      "execution_count": null,
      "outputs": []
    },
    {
      "cell_type": "code",
      "source": [
        "anova_df=pd.DataFrame()\n",
        "anova_df[\"Request_Closing_Time\"]=new_df[\"Request_Closing_Time\"]\n",
        "anova_df[\"Complaint\"]=new_df[\"Complaint Type\"]\n",
        "\n",
        "anova_df.dropna(inplace=True)\n",
        "anova_df.head()"
      ],
      "metadata": {
        "colab": {
          "base_uri": "https://localhost:8080/",
          "height": 206
        },
        "id": "pttxnK3-duc0",
        "outputId": "51180b9e-71fa-4349-ce15-900757cec0c9"
      },
      "execution_count": null,
      "outputs": [
        {
          "output_type": "execute_result",
          "data": {
            "text/plain": [
              "   Request_Closing_Time                Complaint\n",
              "0             55.250000  Noise - Street/Sidewalk\n",
              "1             86.266667         Blocked Driveway\n",
              "2            291.516667         Blocked Driveway\n",
              "3            465.233333          Illegal Parking\n",
              "4            207.033333          Illegal Parking"
            ],
            "text/html": [
              "\n",
              "  <div id=\"df-a6b6a755-b1d2-41a0-897c-ba86219ca780\">\n",
              "    <div class=\"colab-df-container\">\n",
              "      <div>\n",
              "<style scoped>\n",
              "    .dataframe tbody tr th:only-of-type {\n",
              "        vertical-align: middle;\n",
              "    }\n",
              "\n",
              "    .dataframe tbody tr th {\n",
              "        vertical-align: top;\n",
              "    }\n",
              "\n",
              "    .dataframe thead th {\n",
              "        text-align: right;\n",
              "    }\n",
              "</style>\n",
              "<table border=\"1\" class=\"dataframe\">\n",
              "  <thead>\n",
              "    <tr style=\"text-align: right;\">\n",
              "      <th></th>\n",
              "      <th>Request_Closing_Time</th>\n",
              "      <th>Complaint</th>\n",
              "    </tr>\n",
              "  </thead>\n",
              "  <tbody>\n",
              "    <tr>\n",
              "      <th>0</th>\n",
              "      <td>55.250000</td>\n",
              "      <td>Noise - Street/Sidewalk</td>\n",
              "    </tr>\n",
              "    <tr>\n",
              "      <th>1</th>\n",
              "      <td>86.266667</td>\n",
              "      <td>Blocked Driveway</td>\n",
              "    </tr>\n",
              "    <tr>\n",
              "      <th>2</th>\n",
              "      <td>291.516667</td>\n",
              "      <td>Blocked Driveway</td>\n",
              "    </tr>\n",
              "    <tr>\n",
              "      <th>3</th>\n",
              "      <td>465.233333</td>\n",
              "      <td>Illegal Parking</td>\n",
              "    </tr>\n",
              "    <tr>\n",
              "      <th>4</th>\n",
              "      <td>207.033333</td>\n",
              "      <td>Illegal Parking</td>\n",
              "    </tr>\n",
              "  </tbody>\n",
              "</table>\n",
              "</div>\n",
              "      <button class=\"colab-df-convert\" onclick=\"convertToInteractive('df-a6b6a755-b1d2-41a0-897c-ba86219ca780')\"\n",
              "              title=\"Convert this dataframe to an interactive table.\"\n",
              "              style=\"display:none;\">\n",
              "        \n",
              "  <svg xmlns=\"http://www.w3.org/2000/svg\" height=\"24px\"viewBox=\"0 0 24 24\"\n",
              "       width=\"24px\">\n",
              "    <path d=\"M0 0h24v24H0V0z\" fill=\"none\"/>\n",
              "    <path d=\"M18.56 5.44l.94 2.06.94-2.06 2.06-.94-2.06-.94-.94-2.06-.94 2.06-2.06.94zm-11 1L8.5 8.5l.94-2.06 2.06-.94-2.06-.94L8.5 2.5l-.94 2.06-2.06.94zm10 10l.94 2.06.94-2.06 2.06-.94-2.06-.94-.94-2.06-.94 2.06-2.06.94z\"/><path d=\"M17.41 7.96l-1.37-1.37c-.4-.4-.92-.59-1.43-.59-.52 0-1.04.2-1.43.59L10.3 9.45l-7.72 7.72c-.78.78-.78 2.05 0 2.83L4 21.41c.39.39.9.59 1.41.59.51 0 1.02-.2 1.41-.59l7.78-7.78 2.81-2.81c.8-.78.8-2.07 0-2.86zM5.41 20L4 18.59l7.72-7.72 1.47 1.35L5.41 20z\"/>\n",
              "  </svg>\n",
              "      </button>\n",
              "      \n",
              "  <style>\n",
              "    .colab-df-container {\n",
              "      display:flex;\n",
              "      flex-wrap:wrap;\n",
              "      gap: 12px;\n",
              "    }\n",
              "\n",
              "    .colab-df-convert {\n",
              "      background-color: #E8F0FE;\n",
              "      border: none;\n",
              "      border-radius: 50%;\n",
              "      cursor: pointer;\n",
              "      display: none;\n",
              "      fill: #1967D2;\n",
              "      height: 32px;\n",
              "      padding: 0 0 0 0;\n",
              "      width: 32px;\n",
              "    }\n",
              "\n",
              "    .colab-df-convert:hover {\n",
              "      background-color: #E2EBFA;\n",
              "      box-shadow: 0px 1px 2px rgba(60, 64, 67, 0.3), 0px 1px 3px 1px rgba(60, 64, 67, 0.15);\n",
              "      fill: #174EA6;\n",
              "    }\n",
              "\n",
              "    [theme=dark] .colab-df-convert {\n",
              "      background-color: #3B4455;\n",
              "      fill: #D2E3FC;\n",
              "    }\n",
              "\n",
              "    [theme=dark] .colab-df-convert:hover {\n",
              "      background-color: #434B5C;\n",
              "      box-shadow: 0px 1px 3px 1px rgba(0, 0, 0, 0.15);\n",
              "      filter: drop-shadow(0px 1px 2px rgba(0, 0, 0, 0.3));\n",
              "      fill: #FFFFFF;\n",
              "    }\n",
              "  </style>\n",
              "\n",
              "      <script>\n",
              "        const buttonEl =\n",
              "          document.querySelector('#df-a6b6a755-b1d2-41a0-897c-ba86219ca780 button.colab-df-convert');\n",
              "        buttonEl.style.display =\n",
              "          google.colab.kernel.accessAllowed ? 'block' : 'none';\n",
              "\n",
              "        async function convertToInteractive(key) {\n",
              "          const element = document.querySelector('#df-a6b6a755-b1d2-41a0-897c-ba86219ca780');\n",
              "          const dataTable =\n",
              "            await google.colab.kernel.invokeFunction('convertToInteractive',\n",
              "                                                     [key], {});\n",
              "          if (!dataTable) return;\n",
              "\n",
              "          const docLinkHtml = 'Like what you see? Visit the ' +\n",
              "            '<a target=\"_blank\" href=https://colab.research.google.com/notebooks/data_table.ipynb>data table notebook</a>'\n",
              "            + ' to learn more about interactive tables.';\n",
              "          element.innerHTML = '';\n",
              "          dataTable['output_type'] = 'display_data';\n",
              "          await google.colab.output.renderOutput(dataTable, element);\n",
              "          const docLink = document.createElement('div');\n",
              "          docLink.innerHTML = docLinkHtml;\n",
              "          element.appendChild(docLink);\n",
              "        }\n",
              "      </script>\n",
              "    </div>\n",
              "  </div>\n",
              "  "
            ]
          },
          "metadata": {},
          "execution_count": 83
        }
      ]
    },
    {
      "cell_type": "code",
      "source": [
        "lm=ols(\"Request_Closing_Time~Complaint\",data=anova_df).fit()             #here we are using one way anova to get p-value\n",
        "anova_table=sm.stats.anova_lm(lm)\n",
        "anova_table"
      ],
      "metadata": {
        "colab": {
          "base_uri": "https://localhost:8080/",
          "height": 112
        },
        "id": "KZykOZL8dw5N",
        "outputId": "fa2d5e11-573a-419b-a378-4a189a254d02"
      },
      "execution_count": null,
      "outputs": [
        {
          "output_type": "execute_result",
          "data": {
            "text/plain": [
              "                df        sum_sq       mean_sq          F         PR(>F)\n",
              "Complaint     19.0  2.397540e+08  1.261863e+07  54.789447  1.017025e-206\n",
              "Residual   55182.0  1.270904e+10  2.303114e+05        NaN            NaN"
            ],
            "text/html": [
              "\n",
              "  <div id=\"df-a96eacff-60eb-4d2f-9244-8e1c7203c251\">\n",
              "    <div class=\"colab-df-container\">\n",
              "      <div>\n",
              "<style scoped>\n",
              "    .dataframe tbody tr th:only-of-type {\n",
              "        vertical-align: middle;\n",
              "    }\n",
              "\n",
              "    .dataframe tbody tr th {\n",
              "        vertical-align: top;\n",
              "    }\n",
              "\n",
              "    .dataframe thead th {\n",
              "        text-align: right;\n",
              "    }\n",
              "</style>\n",
              "<table border=\"1\" class=\"dataframe\">\n",
              "  <thead>\n",
              "    <tr style=\"text-align: right;\">\n",
              "      <th></th>\n",
              "      <th>df</th>\n",
              "      <th>sum_sq</th>\n",
              "      <th>mean_sq</th>\n",
              "      <th>F</th>\n",
              "      <th>PR(&gt;F)</th>\n",
              "    </tr>\n",
              "  </thead>\n",
              "  <tbody>\n",
              "    <tr>\n",
              "      <th>Complaint</th>\n",
              "      <td>19.0</td>\n",
              "      <td>2.397540e+08</td>\n",
              "      <td>1.261863e+07</td>\n",
              "      <td>54.789447</td>\n",
              "      <td>1.017025e-206</td>\n",
              "    </tr>\n",
              "    <tr>\n",
              "      <th>Residual</th>\n",
              "      <td>55182.0</td>\n",
              "      <td>1.270904e+10</td>\n",
              "      <td>2.303114e+05</td>\n",
              "      <td>NaN</td>\n",
              "      <td>NaN</td>\n",
              "    </tr>\n",
              "  </tbody>\n",
              "</table>\n",
              "</div>\n",
              "      <button class=\"colab-df-convert\" onclick=\"convertToInteractive('df-a96eacff-60eb-4d2f-9244-8e1c7203c251')\"\n",
              "              title=\"Convert this dataframe to an interactive table.\"\n",
              "              style=\"display:none;\">\n",
              "        \n",
              "  <svg xmlns=\"http://www.w3.org/2000/svg\" height=\"24px\"viewBox=\"0 0 24 24\"\n",
              "       width=\"24px\">\n",
              "    <path d=\"M0 0h24v24H0V0z\" fill=\"none\"/>\n",
              "    <path d=\"M18.56 5.44l.94 2.06.94-2.06 2.06-.94-2.06-.94-.94-2.06-.94 2.06-2.06.94zm-11 1L8.5 8.5l.94-2.06 2.06-.94-2.06-.94L8.5 2.5l-.94 2.06-2.06.94zm10 10l.94 2.06.94-2.06 2.06-.94-2.06-.94-.94-2.06-.94 2.06-2.06.94z\"/><path d=\"M17.41 7.96l-1.37-1.37c-.4-.4-.92-.59-1.43-.59-.52 0-1.04.2-1.43.59L10.3 9.45l-7.72 7.72c-.78.78-.78 2.05 0 2.83L4 21.41c.39.39.9.59 1.41.59.51 0 1.02-.2 1.41-.59l7.78-7.78 2.81-2.81c.8-.78.8-2.07 0-2.86zM5.41 20L4 18.59l7.72-7.72 1.47 1.35L5.41 20z\"/>\n",
              "  </svg>\n",
              "      </button>\n",
              "      \n",
              "  <style>\n",
              "    .colab-df-container {\n",
              "      display:flex;\n",
              "      flex-wrap:wrap;\n",
              "      gap: 12px;\n",
              "    }\n",
              "\n",
              "    .colab-df-convert {\n",
              "      background-color: #E8F0FE;\n",
              "      border: none;\n",
              "      border-radius: 50%;\n",
              "      cursor: pointer;\n",
              "      display: none;\n",
              "      fill: #1967D2;\n",
              "      height: 32px;\n",
              "      padding: 0 0 0 0;\n",
              "      width: 32px;\n",
              "    }\n",
              "\n",
              "    .colab-df-convert:hover {\n",
              "      background-color: #E2EBFA;\n",
              "      box-shadow: 0px 1px 2px rgba(60, 64, 67, 0.3), 0px 1px 3px 1px rgba(60, 64, 67, 0.15);\n",
              "      fill: #174EA6;\n",
              "    }\n",
              "\n",
              "    [theme=dark] .colab-df-convert {\n",
              "      background-color: #3B4455;\n",
              "      fill: #D2E3FC;\n",
              "    }\n",
              "\n",
              "    [theme=dark] .colab-df-convert:hover {\n",
              "      background-color: #434B5C;\n",
              "      box-shadow: 0px 1px 3px 1px rgba(0, 0, 0, 0.15);\n",
              "      filter: drop-shadow(0px 1px 2px rgba(0, 0, 0, 0.3));\n",
              "      fill: #FFFFFF;\n",
              "    }\n",
              "  </style>\n",
              "\n",
              "      <script>\n",
              "        const buttonEl =\n",
              "          document.querySelector('#df-a96eacff-60eb-4d2f-9244-8e1c7203c251 button.colab-df-convert');\n",
              "        buttonEl.style.display =\n",
              "          google.colab.kernel.accessAllowed ? 'block' : 'none';\n",
              "\n",
              "        async function convertToInteractive(key) {\n",
              "          const element = document.querySelector('#df-a96eacff-60eb-4d2f-9244-8e1c7203c251');\n",
              "          const dataTable =\n",
              "            await google.colab.kernel.invokeFunction('convertToInteractive',\n",
              "                                                     [key], {});\n",
              "          if (!dataTable) return;\n",
              "\n",
              "          const docLinkHtml = 'Like what you see? Visit the ' +\n",
              "            '<a target=\"_blank\" href=https://colab.research.google.com/notebooks/data_table.ipynb>data table notebook</a>'\n",
              "            + ' to learn more about interactive tables.';\n",
              "          element.innerHTML = '';\n",
              "          dataTable['output_type'] = 'display_data';\n",
              "          await google.colab.output.renderOutput(dataTable, element);\n",
              "          const docLink = document.createElement('div');\n",
              "          docLink.innerHTML = docLinkHtml;\n",
              "          element.appendChild(docLink);\n",
              "        }\n",
              "      </script>\n",
              "    </div>\n",
              "  </div>\n",
              "  "
            ]
          },
          "metadata": {},
          "execution_count": 92
        }
      ]
    },
    {
      "cell_type": "markdown",
      "source": [
        "From the above results we can clearly see that p-value is very low so we will reject Null hypothesis which means we conclude that the average response time across complaint types is different\n"
      ],
      "metadata": {
        "id": "7avYfE_plukt"
      }
    },
    {
      "cell_type": "markdown",
      "source": [
        "**Second: H0:Complaint Type and Location Type are independent**            \n",
        "\n",
        "**H1:Complaint Type and Location Type are related**"
      ],
      "metadata": {
        "id": "-hVm02E0pEpc"
      }
    },
    {
      "cell_type": "code",
      "source": [
        "chi_sq=pd.DataFrame()\n",
        "chi_sq[\"Location Type\"]=new_df[\"Location Type\"]\n",
        "chi_sq[\"Complaint Type\"]=new_df[\"Complaint Type\"]\n",
        "\n",
        "chi_sq.dropna(inplace=True)"
      ],
      "metadata": {
        "id": "PTQCdw_zltgw"
      },
      "execution_count": null,
      "outputs": []
    },
    {
      "cell_type": "code",
      "source": [
        "data_crosstab = pd.crosstab( chi_sq[\"Location Type\"],chi_sq[\"Complaint Type\"])"
      ],
      "metadata": {
        "id": "cFS90wH8pfVB"
      },
      "execution_count": null,
      "outputs": []
    },
    {
      "cell_type": "code",
      "source": [
        "stat, p, dof, expected = chi2_contingency(data_crosstab) \n",
        "print(\"statistics:\",stat,\"\\n\",\"p-value\",p)\n",
        "\n",
        "alpha = 0.05\n",
        "if p <= alpha: \n",
        "    print('Reject Null hypothesis)') \n",
        "else: \n",
        "    print('Accept Null Hypothesis') "
      ],
      "metadata": {
        "colab": {
          "base_uri": "https://localhost:8080/"
        },
        "id": "VRbH7zPDpj6M",
        "outputId": "e7eb2e3b-7c7c-44a8-f729-ced8317ce1fb"
      },
      "execution_count": null,
      "outputs": [
        {
          "output_type": "stream",
          "name": "stdout",
          "text": [
            "statistics: 191889.29754983488 \n",
            " p-value 0.0\n",
            "Reject Null hypothesis)\n"
          ]
        }
      ]
    }
  ]
}